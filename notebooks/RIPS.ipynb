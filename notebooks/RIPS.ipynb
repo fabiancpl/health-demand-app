{
 "cells": [
  {
   "cell_type": "code",
   "execution_count": 1,
   "metadata": {},
   "outputs": [],
   "source": [
    "import numpy as np\n",
    "import pandas as pd\n",
    "import plotly.express as px\n",
    "import plotly.graph_objects as go"
   ]
  },
  {
   "cell_type": "markdown",
   "metadata": {},
   "source": [
    "## Loading RIPS"
   ]
  },
  {
   "cell_type": "code",
   "execution_count": 2,
   "metadata": {},
   "outputs": [],
   "source": [
    "rips = pd.read_csv( './data/raw/RIPS.txt', sep = ';' )"
   ]
  },
  {
   "cell_type": "code",
   "execution_count": 3,
   "metadata": {},
   "outputs": [
    {
     "data": {
      "text/plain": [
       "(17785888, 16)"
      ]
     },
     "execution_count": 3,
     "metadata": {},
     "output_type": "execute_result"
    }
   ],
   "source": [
    "rips.shape"
   ]
  },
  {
   "cell_type": "code",
   "execution_count": 4,
   "metadata": {},
   "outputs": [],
   "source": [
    "rips = rips[ :-1 ]"
   ]
  },
  {
   "cell_type": "code",
   "execution_count": 5,
   "metadata": {},
   "outputs": [],
   "source": [
    "rips.rename( columns = { 'DptoAtencion': 'DepartamentoAtencion', 'MpioAtencion': 'MunicipioAtencion' }, inplace = True )"
   ]
  },
  {
   "cell_type": "code",
   "execution_count": 6,
   "metadata": {},
   "outputs": [],
   "source": [
    "rips[ 'PersonaID' ] = rips[ 'PersonaID' ].astype( int )"
   ]
  },
  {
   "cell_type": "code",
   "execution_count": 7,
   "metadata": {},
   "outputs": [],
   "source": [
    "rips[ 'EdadAtencion' ] = rips[ 'EdadAtencion' ].astype( int )"
   ]
  },
  {
   "cell_type": "code",
   "execution_count": 8,
   "metadata": {},
   "outputs": [],
   "source": [
    "rips[ 'FechaAtencion' ] = pd.to_datetime( rips[ 'FechaAtencion' ], format = '%Y%m%d' )"
   ]
  },
  {
   "cell_type": "code",
   "execution_count": 9,
   "metadata": {},
   "outputs": [],
   "source": [
    "rips[ 'CodigoPrestador' ] = rips[ 'CodigoPrestador' ].astype( int )"
   ]
  },
  {
   "cell_type": "code",
   "execution_count": 10,
   "metadata": {},
   "outputs": [],
   "source": [
    "rips[ 'CodigoDepartamentoAtencion' ], rips[ 'DepartamentoAtencion' ] = zip( *rips[ 'DepartamentoAtencion' ].apply( lambda x: x.split( ' - ' ) ) )\n",
    "rips[ 'CodigoDepartamentoAtencion' ] = rips[ 'CodigoDepartamentoAtencion' ].astype( int )"
   ]
  },
  {
   "cell_type": "code",
   "execution_count": 11,
   "metadata": {},
   "outputs": [],
   "source": [
    "rips[ 'CodigoMunicipioAtencion' ], rips[ 'MunicipioAtencion' ] = zip( *rips[ 'MunicipioAtencion' ].apply( lambda x: x.split( ' - ' ) ) )\n",
    "rips[ 'CodigoMunicipioAtencion' ] = rips[ 'CodigoMunicipioAtencion' ].astype( int )"
   ]
  },
  {
   "cell_type": "code",
   "execution_count": 12,
   "metadata": {},
   "outputs": [],
   "source": [
    "rips[ 'Sexo' ] = rips[ 'Sexo' ].replace( { np.nan: 'NO DEFINIDO' } )"
   ]
  },
  {
   "cell_type": "code",
   "execution_count": 13,
   "metadata": {},
   "outputs": [],
   "source": [
    "def age2group( x ):\n",
    "    if x < 5:\n",
    "        return '0-4'\n",
    "    elif x < 10:\n",
    "        return '5-9'\n",
    "    elif x < 15:\n",
    "        return '10-14'\n",
    "    elif x < 20:\n",
    "        return '15-19'\n",
    "    elif x < 25:\n",
    "        return '20-24'\n",
    "    elif x < 30:\n",
    "        return '25-29'\n",
    "    elif x < 35:\n",
    "        return '30-34'\n",
    "    elif x < 40:\n",
    "        return '35-39'\n",
    "    elif x < 45:\n",
    "        return '40-44'\n",
    "    elif x < 50:\n",
    "        return '45-49'\n",
    "    elif x < 55:\n",
    "        return '50-54'\n",
    "    elif x < 60:\n",
    "        return '55-59'\n",
    "    elif x < 65:\n",
    "        return '60-64'\n",
    "    elif x < 70:\n",
    "        return '65-69'\n",
    "    elif x < 75:\n",
    "        return '70-74'\n",
    "    elif x < 80:\n",
    "        return '75-79'\n",
    "    elif x < 85:\n",
    "        return '80-84'\n",
    "    elif x < 90:\n",
    "        return '85-89'\n",
    "    elif x < 95:\n",
    "        return '90-94'\n",
    "    elif x < 100:\n",
    "        return '95-99'\n",
    "    else:\n",
    "        return '100+'\n",
    "\n",
    "rips[ 'RangoEdadAtencion' ] = rips[ 'EdadAtencion' ].apply( age2group )"
   ]
  },
  {
   "cell_type": "code",
   "execution_count": 14,
   "metadata": {
    "scrolled": true
   },
   "outputs": [],
   "source": [
    "rips[ 'CodigoDiagnosticoPrincipal' ], rips[ 'DiagnosticoPrincipal' ] = zip( *rips[ 'DiagnosticoPrincipal' ].apply( lambda x: x.split( ' - ' ) ) )"
   ]
  },
  {
   "cell_type": "code",
   "execution_count": 15,
   "metadata": {},
   "outputs": [
    {
     "data": {
      "text/plain": [
       "PersonaID                              int64\n",
       "TipoAtencion                          object\n",
       "CapituloDX                            object\n",
       "DiagnosticoPrincipal                  object\n",
       "EdadAtencion                           int64\n",
       "Sexo                                  object\n",
       "FechaAtencion                 datetime64[ns]\n",
       "FinalidadConsulta                     object\n",
       "FinalidadProcedimiento                object\n",
       "CausaExterna                          object\n",
       "CodigoPrestador                        int64\n",
       "Prestador                             object\n",
       "Procedimiento                         object\n",
       "DepartamentoAtencion                  object\n",
       "MunicipioAtencion                     object\n",
       "NumeroAtenciones                     float64\n",
       "CodigoDepartamentoAtencion             int64\n",
       "CodigoMunicipioAtencion                int64\n",
       "RangoEdadAtencion                     object\n",
       "CodigoDiagnosticoPrincipal            object\n",
       "dtype: object"
      ]
     },
     "execution_count": 15,
     "metadata": {},
     "output_type": "execute_result"
    }
   ],
   "source": [
    "rips.dtypes"
   ]
  },
  {
   "cell_type": "code",
   "execution_count": 16,
   "metadata": {},
   "outputs": [
    {
     "data": {
      "text/html": [
       "<div>\n",
       "<style scoped>\n",
       "    .dataframe tbody tr th:only-of-type {\n",
       "        vertical-align: middle;\n",
       "    }\n",
       "\n",
       "    .dataframe tbody tr th {\n",
       "        vertical-align: top;\n",
       "    }\n",
       "\n",
       "    .dataframe thead th {\n",
       "        text-align: right;\n",
       "    }\n",
       "</style>\n",
       "<table border=\"1\" class=\"dataframe\">\n",
       "  <thead>\n",
       "    <tr style=\"text-align: right;\">\n",
       "      <th></th>\n",
       "      <th>PersonaID</th>\n",
       "      <th>TipoAtencion</th>\n",
       "      <th>CapituloDX</th>\n",
       "      <th>DiagnosticoPrincipal</th>\n",
       "      <th>EdadAtencion</th>\n",
       "      <th>Sexo</th>\n",
       "      <th>FechaAtencion</th>\n",
       "      <th>FinalidadConsulta</th>\n",
       "      <th>FinalidadProcedimiento</th>\n",
       "      <th>CausaExterna</th>\n",
       "      <th>CodigoPrestador</th>\n",
       "      <th>Prestador</th>\n",
       "      <th>Procedimiento</th>\n",
       "      <th>DepartamentoAtencion</th>\n",
       "      <th>MunicipioAtencion</th>\n",
       "      <th>NumeroAtenciones</th>\n",
       "      <th>CodigoDepartamentoAtencion</th>\n",
       "      <th>CodigoMunicipioAtencion</th>\n",
       "      <th>RangoEdadAtencion</th>\n",
       "      <th>CodigoDiagnosticoPrincipal</th>\n",
       "    </tr>\n",
       "  </thead>\n",
       "  <tbody>\n",
       "    <tr>\n",
       "      <th>1</th>\n",
       "      <td>100055639</td>\n",
       "      <td>PROCEDIMIENTOS DE SALUD</td>\n",
       "      <td>NO DEFINIDO</td>\n",
       "      <td>NO DEFINIDO</td>\n",
       "      <td>19</td>\n",
       "      <td>FEMENINO</td>\n",
       "      <td>2013-01-01</td>\n",
       "      <td>10 - NO APLICA</td>\n",
       "      <td>1 - DIAGNÓSTICO</td>\n",
       "      <td>NO APLICA</td>\n",
       "      <td>110010892503</td>\n",
       "      <td>HOSPITAL MEISSEN</td>\n",
       "      <td>881432 - ULTRASONOGRAFÍA OBSTETRICA TRANSVAGIN...</td>\n",
       "      <td>Tolima</td>\n",
       "      <td>ATACO</td>\n",
       "      <td>1.0</td>\n",
       "      <td>73</td>\n",
       "      <td>73067</td>\n",
       "      <td>15-19</td>\n",
       "      <td>1</td>\n",
       "    </tr>\n",
       "    <tr>\n",
       "      <th>2</th>\n",
       "      <td>100055639</td>\n",
       "      <td>PROCEDIMIENTOS DE SALUD</td>\n",
       "      <td>NO DEFINIDO</td>\n",
       "      <td>NO DEFINIDO</td>\n",
       "      <td>19</td>\n",
       "      <td>FEMENINO</td>\n",
       "      <td>2013-01-01</td>\n",
       "      <td>10 - NO APLICA</td>\n",
       "      <td>1 - DIAGNÓSTICO</td>\n",
       "      <td>NO APLICA</td>\n",
       "      <td>110010892503</td>\n",
       "      <td>HOSPITAL MEISSEN</td>\n",
       "      <td>881434 - ULTRASONOGRAFÍA OBSTETRICA CON PERFIL...</td>\n",
       "      <td>Tolima</td>\n",
       "      <td>ATACO</td>\n",
       "      <td>1.0</td>\n",
       "      <td>73</td>\n",
       "      <td>73067</td>\n",
       "      <td>15-19</td>\n",
       "      <td>1</td>\n",
       "    </tr>\n",
       "    <tr>\n",
       "      <th>3</th>\n",
       "      <td>100085165</td>\n",
       "      <td>CONSULTAS</td>\n",
       "      <td>C18 - SINTOMAS, SIGNOS Y HALLAZGOS ANORMALES C...</td>\n",
       "      <td>MAREO Y DESVANECIMIENTO</td>\n",
       "      <td>12</td>\n",
       "      <td>MASCULINO</td>\n",
       "      <td>2013-01-01</td>\n",
       "      <td>10 - NO APLICA</td>\n",
       "      <td>6 - NO APLICA</td>\n",
       "      <td>ENFERMEDAD GENERAL</td>\n",
       "      <td>50340443201</td>\n",
       "      <td>E.S.E HOSPITAL SAN RAFAEL</td>\n",
       "      <td>890701 - CONSULTA DE URGENCIAS, POR MEDICINA G...</td>\n",
       "      <td>Antioquia</td>\n",
       "      <td>ANDES</td>\n",
       "      <td>1.0</td>\n",
       "      <td>5</td>\n",
       "      <td>5034</td>\n",
       "      <td>10-14</td>\n",
       "      <td>R42X</td>\n",
       "    </tr>\n",
       "    <tr>\n",
       "      <th>4</th>\n",
       "      <td>100085165</td>\n",
       "      <td>URGENCIAS</td>\n",
       "      <td>C18 - SINTOMAS, SIGNOS Y HALLAZGOS ANORMALES C...</td>\n",
       "      <td>OTROS SINTOMAS Y SIGNOS GENERALES ESPECIFICADOS</td>\n",
       "      <td>12</td>\n",
       "      <td>MASCULINO</td>\n",
       "      <td>2013-01-01</td>\n",
       "      <td>10 - NO APLICA</td>\n",
       "      <td>6 - NO APLICA</td>\n",
       "      <td>ENFERMEDAD GENERAL</td>\n",
       "      <td>50340443201</td>\n",
       "      <td>E.S.E HOSPITAL SAN RAFAEL</td>\n",
       "      <td>1 - NO DEFINIDO</td>\n",
       "      <td>Antioquia</td>\n",
       "      <td>ANDES</td>\n",
       "      <td>1.0</td>\n",
       "      <td>5</td>\n",
       "      <td>5034</td>\n",
       "      <td>10-14</td>\n",
       "      <td>R688</td>\n",
       "    </tr>\n",
       "    <tr>\n",
       "      <th>5</th>\n",
       "      <td>100148950</td>\n",
       "      <td>CONSULTAS</td>\n",
       "      <td>C01 - CIERTAS ENFERMEDADES INFECCIOSAS Y PARAS...</td>\n",
       "      <td>DIARREA Y GASTROENTERITIS DE PRESUNTO ORIGEN I...</td>\n",
       "      <td>0</td>\n",
       "      <td>FEMENINO</td>\n",
       "      <td>2013-01-01</td>\n",
       "      <td>10 - NO APLICA</td>\n",
       "      <td>6 - NO APLICA</td>\n",
       "      <td>ENFERMEDAD GENERAL</td>\n",
       "      <td>526120139401</td>\n",
       "      <td>E.S.E. CENTRO DE SALUD DE RICAURTE</td>\n",
       "      <td>890701 - CONSULTA DE URGENCIAS, POR MEDICINA G...</td>\n",
       "      <td>Nariño</td>\n",
       "      <td>RICAURTE</td>\n",
       "      <td>1.0</td>\n",
       "      <td>52</td>\n",
       "      <td>52612</td>\n",
       "      <td>0-4</td>\n",
       "      <td>A09X</td>\n",
       "    </tr>\n",
       "  </tbody>\n",
       "</table>\n",
       "</div>"
      ],
      "text/plain": [
       "   PersonaID             TipoAtencion  \\\n",
       "1  100055639  PROCEDIMIENTOS DE SALUD   \n",
       "2  100055639  PROCEDIMIENTOS DE SALUD   \n",
       "3  100085165                CONSULTAS   \n",
       "4  100085165                URGENCIAS   \n",
       "5  100148950                CONSULTAS   \n",
       "\n",
       "                                          CapituloDX  \\\n",
       "1                                        NO DEFINIDO   \n",
       "2                                        NO DEFINIDO   \n",
       "3  C18 - SINTOMAS, SIGNOS Y HALLAZGOS ANORMALES C...   \n",
       "4  C18 - SINTOMAS, SIGNOS Y HALLAZGOS ANORMALES C...   \n",
       "5  C01 - CIERTAS ENFERMEDADES INFECCIOSAS Y PARAS...   \n",
       "\n",
       "                                DiagnosticoPrincipal  EdadAtencion       Sexo  \\\n",
       "1                                        NO DEFINIDO            19   FEMENINO   \n",
       "2                                        NO DEFINIDO            19   FEMENINO   \n",
       "3                            MAREO Y DESVANECIMIENTO            12  MASCULINO   \n",
       "4    OTROS SINTOMAS Y SIGNOS GENERALES ESPECIFICADOS            12  MASCULINO   \n",
       "5  DIARREA Y GASTROENTERITIS DE PRESUNTO ORIGEN I...             0   FEMENINO   \n",
       "\n",
       "  FechaAtencion FinalidadConsulta FinalidadProcedimiento        CausaExterna  \\\n",
       "1    2013-01-01    10 - NO APLICA        1 - DIAGNÓSTICO           NO APLICA   \n",
       "2    2013-01-01    10 - NO APLICA        1 - DIAGNÓSTICO           NO APLICA   \n",
       "3    2013-01-01    10 - NO APLICA          6 - NO APLICA  ENFERMEDAD GENERAL   \n",
       "4    2013-01-01    10 - NO APLICA          6 - NO APLICA  ENFERMEDAD GENERAL   \n",
       "5    2013-01-01    10 - NO APLICA          6 - NO APLICA  ENFERMEDAD GENERAL   \n",
       "\n",
       "   CodigoPrestador                           Prestador  \\\n",
       "1     110010892503                    HOSPITAL MEISSEN   \n",
       "2     110010892503                    HOSPITAL MEISSEN   \n",
       "3      50340443201           E.S.E HOSPITAL SAN RAFAEL   \n",
       "4      50340443201           E.S.E HOSPITAL SAN RAFAEL   \n",
       "5     526120139401  E.S.E. CENTRO DE SALUD DE RICAURTE   \n",
       "\n",
       "                                       Procedimiento DepartamentoAtencion  \\\n",
       "1  881432 - ULTRASONOGRAFÍA OBSTETRICA TRANSVAGIN...               Tolima   \n",
       "2  881434 - ULTRASONOGRAFÍA OBSTETRICA CON PERFIL...               Tolima   \n",
       "3  890701 - CONSULTA DE URGENCIAS, POR MEDICINA G...            Antioquia   \n",
       "4                                    1 - NO DEFINIDO            Antioquia   \n",
       "5  890701 - CONSULTA DE URGENCIAS, POR MEDICINA G...               Nariño   \n",
       "\n",
       "  MunicipioAtencion  NumeroAtenciones  CodigoDepartamentoAtencion  \\\n",
       "1             ATACO               1.0                          73   \n",
       "2             ATACO               1.0                          73   \n",
       "3             ANDES               1.0                           5   \n",
       "4             ANDES               1.0                           5   \n",
       "5          RICAURTE               1.0                          52   \n",
       "\n",
       "   CodigoMunicipioAtencion RangoEdadAtencion CodigoDiagnosticoPrincipal  \n",
       "1                    73067             15-19                          1  \n",
       "2                    73067             15-19                          1  \n",
       "3                     5034             10-14                       R42X  \n",
       "4                     5034             10-14                       R688  \n",
       "5                    52612               0-4                       A09X  "
      ]
     },
     "execution_count": 16,
     "metadata": {},
     "output_type": "execute_result"
    }
   ],
   "source": [
    "rips.head()"
   ]
  },
  {
   "cell_type": "markdown",
   "metadata": {},
   "source": [
    "## Merging ICD-10 codes"
   ]
  },
  {
   "cell_type": "code",
   "execution_count": 17,
   "metadata": {},
   "outputs": [],
   "source": [
    "diagnosis = rips[ [ 'CodigoDiagnosticoPrincipal', 'DiagnosticoPrincipal' ] ].drop_duplicates()"
   ]
  },
  {
   "cell_type": "code",
   "execution_count": 18,
   "metadata": {},
   "outputs": [
    {
     "data": {
      "text/plain": [
       "(9622, 2)"
      ]
     },
     "execution_count": 18,
     "metadata": {},
     "output_type": "execute_result"
    }
   ],
   "source": [
    "diagnosis.shape"
   ]
  },
  {
   "cell_type": "code",
   "execution_count": 19,
   "metadata": {},
   "outputs": [],
   "source": [
    "diagnosis[ 'CodigoDiagnostico' ] = diagnosis[ 'CodigoDiagnosticoPrincipal' ].apply( lambda x: x[ :2 ] )"
   ]
  },
  {
   "cell_type": "code",
   "execution_count": 20,
   "metadata": {},
   "outputs": [],
   "source": [
    "diagnosis.sort_values( by = [ 'CodigoDiagnostico', 'CodigoDiagnosticoPrincipal' ], inplace = True )"
   ]
  },
  {
   "cell_type": "code",
   "execution_count": 21,
   "metadata": {},
   "outputs": [
    {
     "data": {
      "text/plain": [
       "247"
      ]
     },
     "execution_count": 21,
     "metadata": {},
     "output_type": "execute_result"
    }
   ],
   "source": [
    "diagnosis[ 'CodigoDiagnostico' ].nunique()"
   ]
  },
  {
   "cell_type": "code",
   "execution_count": 22,
   "metadata": {},
   "outputs": [],
   "source": [
    "icd10 = pd.read_excel( './data/icd-10.xlsx' )"
   ]
  },
  {
   "cell_type": "code",
   "execution_count": 23,
   "metadata": {},
   "outputs": [
    {
     "data": {
      "text/plain": [
       "22"
      ]
     },
     "execution_count": 23,
     "metadata": {},
     "output_type": "execute_result"
    }
   ],
   "source": [
    "icd10[ 'ICD-10' ].nunique()"
   ]
  },
  {
   "cell_type": "code",
   "execution_count": 24,
   "metadata": {},
   "outputs": [],
   "source": [
    "diagnosis = diagnosis.merge( icd10, how = 'left', on = 'CodigoDiagnostico' )"
   ]
  },
  {
   "cell_type": "code",
   "execution_count": 25,
   "metadata": {},
   "outputs": [
    {
     "data": {
      "text/html": [
       "<div>\n",
       "<style scoped>\n",
       "    .dataframe tbody tr th:only-of-type {\n",
       "        vertical-align: middle;\n",
       "    }\n",
       "\n",
       "    .dataframe tbody tr th {\n",
       "        vertical-align: top;\n",
       "    }\n",
       "\n",
       "    .dataframe thead th {\n",
       "        text-align: right;\n",
       "    }\n",
       "</style>\n",
       "<table border=\"1\" class=\"dataframe\">\n",
       "  <thead>\n",
       "    <tr style=\"text-align: right;\">\n",
       "      <th></th>\n",
       "      <th>CodigoDiagnosticoPrincipal</th>\n",
       "      <th>DiagnosticoPrincipal</th>\n",
       "      <th>CodigoDiagnostico</th>\n",
       "      <th>ICD-10</th>\n",
       "      <th>Description</th>\n",
       "    </tr>\n",
       "  </thead>\n",
       "  <tbody>\n",
       "    <tr>\n",
       "      <th>0</th>\n",
       "      <td>1</td>\n",
       "      <td>NO DEFINIDO</td>\n",
       "      <td>1</td>\n",
       "      <td>NaN</td>\n",
       "      <td>NaN</td>\n",
       "    </tr>\n",
       "    <tr>\n",
       "      <th>1</th>\n",
       "      <td>A000</td>\n",
       "      <td>COLERA DEBIDO A VIBRIO CHOLERAE O1, BIOTIPO CH...</td>\n",
       "      <td>A0</td>\n",
       "      <td>I</td>\n",
       "      <td>Certain infectious and parasitic diseases</td>\n",
       "    </tr>\n",
       "    <tr>\n",
       "      <th>2</th>\n",
       "      <td>A001</td>\n",
       "      <td>COLERA DEBIDO A VIBRIO CHOLERAE O1, BIOTIPO EL...</td>\n",
       "      <td>A0</td>\n",
       "      <td>I</td>\n",
       "      <td>Certain infectious and parasitic diseases</td>\n",
       "    </tr>\n",
       "    <tr>\n",
       "      <th>3</th>\n",
       "      <td>A009</td>\n",
       "      <td>COLERA NO ESPECIFICADO</td>\n",
       "      <td>A0</td>\n",
       "      <td>I</td>\n",
       "      <td>Certain infectious and parasitic diseases</td>\n",
       "    </tr>\n",
       "    <tr>\n",
       "      <th>4</th>\n",
       "      <td>A010</td>\n",
       "      <td>FIEBRE TIFOIDEA</td>\n",
       "      <td>A0</td>\n",
       "      <td>I</td>\n",
       "      <td>Certain infectious and parasitic diseases</td>\n",
       "    </tr>\n",
       "  </tbody>\n",
       "</table>\n",
       "</div>"
      ],
      "text/plain": [
       "  CodigoDiagnosticoPrincipal  \\\n",
       "0                          1   \n",
       "1                       A000   \n",
       "2                       A001   \n",
       "3                       A009   \n",
       "4                       A010   \n",
       "\n",
       "                                DiagnosticoPrincipal CodigoDiagnostico ICD-10  \\\n",
       "0                                        NO DEFINIDO                 1    NaN   \n",
       "1  COLERA DEBIDO A VIBRIO CHOLERAE O1, BIOTIPO CH...                A0      I   \n",
       "2  COLERA DEBIDO A VIBRIO CHOLERAE O1, BIOTIPO EL...                A0      I   \n",
       "3                             COLERA NO ESPECIFICADO                A0      I   \n",
       "4                                    FIEBRE TIFOIDEA                A0      I   \n",
       "\n",
       "                                 Description  \n",
       "0                                        NaN  \n",
       "1  Certain infectious and parasitic diseases  \n",
       "2  Certain infectious and parasitic diseases  \n",
       "3  Certain infectious and parasitic diseases  \n",
       "4  Certain infectious and parasitic diseases  "
      ]
     },
     "execution_count": 25,
     "metadata": {},
     "output_type": "execute_result"
    }
   ],
   "source": [
    "diagnosis.head()"
   ]
  },
  {
   "cell_type": "code",
   "execution_count": 36,
   "metadata": {},
   "outputs": [],
   "source": [
    "rips = rips.merge( diagnosis[ [ 'CodigoDiagnosticoPrincipal', 'CodigoDiagnostico', 'ICD-10', 'Description' ] ], how = 'left', on = 'CodigoDiagnosticoPrincipal' )"
   ]
  },
  {
   "cell_type": "code",
   "execution_count": 42,
   "metadata": {},
   "outputs": [
    {
     "data": {
      "text/plain": [
       "(17785887, 23)"
      ]
     },
     "execution_count": 42,
     "metadata": {},
     "output_type": "execute_result"
    }
   ],
   "source": [
    "rips.shape"
   ]
  },
  {
   "cell_type": "code",
   "execution_count": 43,
   "metadata": {},
   "outputs": [
    {
     "data": {
      "text/html": [
       "<div>\n",
       "<style scoped>\n",
       "    .dataframe tbody tr th:only-of-type {\n",
       "        vertical-align: middle;\n",
       "    }\n",
       "\n",
       "    .dataframe tbody tr th {\n",
       "        vertical-align: top;\n",
       "    }\n",
       "\n",
       "    .dataframe thead th {\n",
       "        text-align: right;\n",
       "    }\n",
       "</style>\n",
       "<table border=\"1\" class=\"dataframe\">\n",
       "  <thead>\n",
       "    <tr style=\"text-align: right;\">\n",
       "      <th></th>\n",
       "      <th>PersonaID</th>\n",
       "      <th>TipoAtencion</th>\n",
       "      <th>CapituloDX</th>\n",
       "      <th>DiagnosticoPrincipal</th>\n",
       "      <th>EdadAtencion</th>\n",
       "      <th>Sexo</th>\n",
       "      <th>FechaAtencion</th>\n",
       "      <th>FinalidadConsulta</th>\n",
       "      <th>FinalidadProcedimiento</th>\n",
       "      <th>CausaExterna</th>\n",
       "      <th>...</th>\n",
       "      <th>DepartamentoAtencion</th>\n",
       "      <th>MunicipioAtencion</th>\n",
       "      <th>NumeroAtenciones</th>\n",
       "      <th>CodigoDepartamentoAtencion</th>\n",
       "      <th>CodigoMunicipioAtencion</th>\n",
       "      <th>RangoEdadAtencion</th>\n",
       "      <th>CodigoDiagnosticoPrincipal</th>\n",
       "      <th>CodigoDiagnostico</th>\n",
       "      <th>ICD-10</th>\n",
       "      <th>Description</th>\n",
       "    </tr>\n",
       "  </thead>\n",
       "  <tbody>\n",
       "    <tr>\n",
       "      <th>0</th>\n",
       "      <td>100055639</td>\n",
       "      <td>PROCEDIMIENTOS DE SALUD</td>\n",
       "      <td>NO DEFINIDO</td>\n",
       "      <td>NO DEFINIDO</td>\n",
       "      <td>19</td>\n",
       "      <td>FEMENINO</td>\n",
       "      <td>2013-01-01</td>\n",
       "      <td>10 - NO APLICA</td>\n",
       "      <td>1 - DIAGNÓSTICO</td>\n",
       "      <td>NO APLICA</td>\n",
       "      <td>...</td>\n",
       "      <td>Tolima</td>\n",
       "      <td>ATACO</td>\n",
       "      <td>1.0</td>\n",
       "      <td>73</td>\n",
       "      <td>73067</td>\n",
       "      <td>15-19</td>\n",
       "      <td>1</td>\n",
       "      <td>1</td>\n",
       "      <td>NaN</td>\n",
       "      <td>NaN</td>\n",
       "    </tr>\n",
       "    <tr>\n",
       "      <th>1</th>\n",
       "      <td>100055639</td>\n",
       "      <td>PROCEDIMIENTOS DE SALUD</td>\n",
       "      <td>NO DEFINIDO</td>\n",
       "      <td>NO DEFINIDO</td>\n",
       "      <td>19</td>\n",
       "      <td>FEMENINO</td>\n",
       "      <td>2013-01-01</td>\n",
       "      <td>10 - NO APLICA</td>\n",
       "      <td>1 - DIAGNÓSTICO</td>\n",
       "      <td>NO APLICA</td>\n",
       "      <td>...</td>\n",
       "      <td>Tolima</td>\n",
       "      <td>ATACO</td>\n",
       "      <td>1.0</td>\n",
       "      <td>73</td>\n",
       "      <td>73067</td>\n",
       "      <td>15-19</td>\n",
       "      <td>1</td>\n",
       "      <td>1</td>\n",
       "      <td>NaN</td>\n",
       "      <td>NaN</td>\n",
       "    </tr>\n",
       "    <tr>\n",
       "      <th>2</th>\n",
       "      <td>100085165</td>\n",
       "      <td>CONSULTAS</td>\n",
       "      <td>C18 - SINTOMAS, SIGNOS Y HALLAZGOS ANORMALES C...</td>\n",
       "      <td>MAREO Y DESVANECIMIENTO</td>\n",
       "      <td>12</td>\n",
       "      <td>MASCULINO</td>\n",
       "      <td>2013-01-01</td>\n",
       "      <td>10 - NO APLICA</td>\n",
       "      <td>6 - NO APLICA</td>\n",
       "      <td>ENFERMEDAD GENERAL</td>\n",
       "      <td>...</td>\n",
       "      <td>Antioquia</td>\n",
       "      <td>ANDES</td>\n",
       "      <td>1.0</td>\n",
       "      <td>5</td>\n",
       "      <td>5034</td>\n",
       "      <td>10-14</td>\n",
       "      <td>R42X</td>\n",
       "      <td>R4</td>\n",
       "      <td>XVIII</td>\n",
       "      <td>Symptoms, signs and abnormal clinical and labo...</td>\n",
       "    </tr>\n",
       "    <tr>\n",
       "      <th>3</th>\n",
       "      <td>100085165</td>\n",
       "      <td>URGENCIAS</td>\n",
       "      <td>C18 - SINTOMAS, SIGNOS Y HALLAZGOS ANORMALES C...</td>\n",
       "      <td>OTROS SINTOMAS Y SIGNOS GENERALES ESPECIFICADOS</td>\n",
       "      <td>12</td>\n",
       "      <td>MASCULINO</td>\n",
       "      <td>2013-01-01</td>\n",
       "      <td>10 - NO APLICA</td>\n",
       "      <td>6 - NO APLICA</td>\n",
       "      <td>ENFERMEDAD GENERAL</td>\n",
       "      <td>...</td>\n",
       "      <td>Antioquia</td>\n",
       "      <td>ANDES</td>\n",
       "      <td>1.0</td>\n",
       "      <td>5</td>\n",
       "      <td>5034</td>\n",
       "      <td>10-14</td>\n",
       "      <td>R688</td>\n",
       "      <td>R6</td>\n",
       "      <td>XVIII</td>\n",
       "      <td>Symptoms, signs and abnormal clinical and labo...</td>\n",
       "    </tr>\n",
       "    <tr>\n",
       "      <th>4</th>\n",
       "      <td>100148950</td>\n",
       "      <td>CONSULTAS</td>\n",
       "      <td>C01 - CIERTAS ENFERMEDADES INFECCIOSAS Y PARAS...</td>\n",
       "      <td>DIARREA Y GASTROENTERITIS DE PRESUNTO ORIGEN I...</td>\n",
       "      <td>0</td>\n",
       "      <td>FEMENINO</td>\n",
       "      <td>2013-01-01</td>\n",
       "      <td>10 - NO APLICA</td>\n",
       "      <td>6 - NO APLICA</td>\n",
       "      <td>ENFERMEDAD GENERAL</td>\n",
       "      <td>...</td>\n",
       "      <td>Nariño</td>\n",
       "      <td>RICAURTE</td>\n",
       "      <td>1.0</td>\n",
       "      <td>52</td>\n",
       "      <td>52612</td>\n",
       "      <td>0-4</td>\n",
       "      <td>A09X</td>\n",
       "      <td>A0</td>\n",
       "      <td>I</td>\n",
       "      <td>Certain infectious and parasitic diseases</td>\n",
       "    </tr>\n",
       "  </tbody>\n",
       "</table>\n",
       "<p>5 rows × 23 columns</p>\n",
       "</div>"
      ],
      "text/plain": [
       "   PersonaID             TipoAtencion  \\\n",
       "0  100055639  PROCEDIMIENTOS DE SALUD   \n",
       "1  100055639  PROCEDIMIENTOS DE SALUD   \n",
       "2  100085165                CONSULTAS   \n",
       "3  100085165                URGENCIAS   \n",
       "4  100148950                CONSULTAS   \n",
       "\n",
       "                                          CapituloDX  \\\n",
       "0                                        NO DEFINIDO   \n",
       "1                                        NO DEFINIDO   \n",
       "2  C18 - SINTOMAS, SIGNOS Y HALLAZGOS ANORMALES C...   \n",
       "3  C18 - SINTOMAS, SIGNOS Y HALLAZGOS ANORMALES C...   \n",
       "4  C01 - CIERTAS ENFERMEDADES INFECCIOSAS Y PARAS...   \n",
       "\n",
       "                                DiagnosticoPrincipal  EdadAtencion       Sexo  \\\n",
       "0                                        NO DEFINIDO            19   FEMENINO   \n",
       "1                                        NO DEFINIDO            19   FEMENINO   \n",
       "2                            MAREO Y DESVANECIMIENTO            12  MASCULINO   \n",
       "3    OTROS SINTOMAS Y SIGNOS GENERALES ESPECIFICADOS            12  MASCULINO   \n",
       "4  DIARREA Y GASTROENTERITIS DE PRESUNTO ORIGEN I...             0   FEMENINO   \n",
       "\n",
       "  FechaAtencion FinalidadConsulta FinalidadProcedimiento        CausaExterna  \\\n",
       "0    2013-01-01    10 - NO APLICA        1 - DIAGNÓSTICO           NO APLICA   \n",
       "1    2013-01-01    10 - NO APLICA        1 - DIAGNÓSTICO           NO APLICA   \n",
       "2    2013-01-01    10 - NO APLICA          6 - NO APLICA  ENFERMEDAD GENERAL   \n",
       "3    2013-01-01    10 - NO APLICA          6 - NO APLICA  ENFERMEDAD GENERAL   \n",
       "4    2013-01-01    10 - NO APLICA          6 - NO APLICA  ENFERMEDAD GENERAL   \n",
       "\n",
       "   ...  DepartamentoAtencion MunicipioAtencion NumeroAtenciones  \\\n",
       "0  ...                Tolima             ATACO              1.0   \n",
       "1  ...                Tolima             ATACO              1.0   \n",
       "2  ...             Antioquia             ANDES              1.0   \n",
       "3  ...             Antioquia             ANDES              1.0   \n",
       "4  ...                Nariño          RICAURTE              1.0   \n",
       "\n",
       "  CodigoDepartamentoAtencion CodigoMunicipioAtencion  RangoEdadAtencion  \\\n",
       "0                         73                   73067              15-19   \n",
       "1                         73                   73067              15-19   \n",
       "2                          5                    5034              10-14   \n",
       "3                          5                    5034              10-14   \n",
       "4                         52                   52612                0-4   \n",
       "\n",
       "   CodigoDiagnosticoPrincipal  CodigoDiagnostico ICD-10  \\\n",
       "0                           1                  1    NaN   \n",
       "1                           1                  1    NaN   \n",
       "2                        R42X                 R4  XVIII   \n",
       "3                        R688                 R6  XVIII   \n",
       "4                        A09X                 A0      I   \n",
       "\n",
       "                                         Description  \n",
       "0                                                NaN  \n",
       "1                                                NaN  \n",
       "2  Symptoms, signs and abnormal clinical and labo...  \n",
       "3  Symptoms, signs and abnormal clinical and labo...  \n",
       "4          Certain infectious and parasitic diseases  \n",
       "\n",
       "[5 rows x 23 columns]"
      ]
     },
     "execution_count": 43,
     "metadata": {},
     "output_type": "execute_result"
    }
   ],
   "source": [
    "rips.head()"
   ]
  },
  {
   "cell_type": "code",
   "execution_count": 44,
   "metadata": {},
   "outputs": [
    {
     "data": {
      "text/plain": [
       "21"
      ]
     },
     "execution_count": 44,
     "metadata": {},
     "output_type": "execute_result"
    }
   ],
   "source": [
    "rips[ 'ICD-10' ].nunique()"
   ]
  },
  {
   "cell_type": "code",
   "execution_count": 46,
   "metadata": {},
   "outputs": [
    {
     "data": {
      "text/plain": [
       "\"\\nrips[ 'CapituloDX' ] = rips[ 'CapituloDX' ].astype( 'category' )\\nrips[ 'DiagnosticoPrincipal' ] = rips[ 'DiagnosticoPrincipal' ].astype( 'category' )\\nrips[ 'Sexo' ] = rips[ 'Sexo' ].astype( 'category' )\\nrips[ 'FinalidadConsulta' ] = rips[ 'FinalidadConsulta' ].astype( 'category' )\\nrips[ 'FinalidadProcedimiento' ] = rips[ 'FinalidadProcedimiento' ].astype( 'category' )\\nrips[ 'Prestador' ] = rips[ 'Prestador' ].astype( 'category' )\\nrips[ 'Procedimiento' ] = rips[ 'Procedimiento' ].astype( 'category' )\\nrips[ 'DepartamentoAtencion' ] = rips[ 'DepartamentoAtencion' ].astype( 'category' )\\nrips[ 'MunicipioAtencion' ] = rips[ 'MunicipioAtencion' ].astype( 'category' )\\nrips[ 'RangoEdadAtencion' ] = rips[ 'RangoEdadAtencion' ].astype( 'category' )\\n\""
      ]
     },
     "execution_count": 46,
     "metadata": {},
     "output_type": "execute_result"
    }
   ],
   "source": [
    "rips[ 'TipoAtencion' ] = rips[ 'TipoAtencion' ].astype( 'category' )\n",
    "rips[ 'Description' ] = rips[ 'Description' ].astype( 'category' )\n",
    "'''\n",
    "rips[ 'CapituloDX' ] = rips[ 'CapituloDX' ].astype( 'category' )\n",
    "rips[ 'DiagnosticoPrincipal' ] = rips[ 'DiagnosticoPrincipal' ].astype( 'category' )\n",
    "rips[ 'Sexo' ] = rips[ 'Sexo' ].astype( 'category' )\n",
    "rips[ 'FinalidadConsulta' ] = rips[ 'FinalidadConsulta' ].astype( 'category' )\n",
    "rips[ 'FinalidadProcedimiento' ] = rips[ 'FinalidadProcedimiento' ].astype( 'category' )\n",
    "rips[ 'Prestador' ] = rips[ 'Prestador' ].astype( 'category' )\n",
    "rips[ 'Procedimiento' ] = rips[ 'Procedimiento' ].astype( 'category' )\n",
    "rips[ 'DepartamentoAtencion' ] = rips[ 'DepartamentoAtencion' ].astype( 'category' )\n",
    "rips[ 'MunicipioAtencion' ] = rips[ 'MunicipioAtencion' ].astype( 'category' )\n",
    "rips[ 'RangoEdadAtencion' ] = rips[ 'RangoEdadAtencion' ].astype( 'category' )\n",
    "'''"
   ]
  },
  {
   "cell_type": "code",
   "execution_count": 47,
   "metadata": {},
   "outputs": [
    {
     "data": {
      "text/plain": [
       "PersonaID                              int64\n",
       "TipoAtencion                        category\n",
       "CapituloDX                            object\n",
       "DiagnosticoPrincipal                  object\n",
       "EdadAtencion                           int64\n",
       "Sexo                                  object\n",
       "FechaAtencion                 datetime64[ns]\n",
       "FinalidadConsulta                     object\n",
       "FinalidadProcedimiento                object\n",
       "CausaExterna                          object\n",
       "CodigoPrestador                        int64\n",
       "Prestador                             object\n",
       "Procedimiento                         object\n",
       "DepartamentoAtencion                  object\n",
       "MunicipioAtencion                     object\n",
       "NumeroAtenciones                     float64\n",
       "CodigoDepartamentoAtencion             int64\n",
       "CodigoMunicipioAtencion                int64\n",
       "RangoEdadAtencion                     object\n",
       "CodigoDiagnosticoPrincipal            object\n",
       "CodigoDiagnostico                     object\n",
       "ICD-10                                object\n",
       "Description                         category\n",
       "dtype: object"
      ]
     },
     "execution_count": 47,
     "metadata": {},
     "output_type": "execute_result"
    }
   ],
   "source": [
    "rips.dtypes"
   ]
  },
  {
   "cell_type": "code",
   "execution_count": 49,
   "metadata": {},
   "outputs": [],
   "source": [
    "rips[ [ 'PersonaID', 'FechaAtencion', 'EdadAtencion', 'TipoAtencion', 'Description' ] ].to_pickle( './data/clean/rips.pkl.gzip', compression = 'gzip' )"
   ]
  },
  {
   "cell_type": "markdown",
   "metadata": {},
   "source": [
    "## Exploring data"
   ]
  },
  {
   "cell_type": "code",
   "execution_count": null,
   "metadata": {},
   "outputs": [],
   "source": [
    "rips_by_month = rips.set_index( 'FechaAtencion' ).resample( 'M' ).agg( { 'PersonaID': [ 'count', lambda x: x.nunique() ] } ).reset_index().rename( columns = { '<lambda_0>': 'nunique' } )"
   ]
  },
  {
   "cell_type": "code",
   "execution_count": null,
   "metadata": {},
   "outputs": [],
   "source": [
    "rips_by_month.columns = [ '_'.join( col ).strip() for col in rips_by_month.columns.values ]"
   ]
  },
  {
   "cell_type": "code",
   "execution_count": null,
   "metadata": {},
   "outputs": [],
   "source": [
    "rips_by_month.rename( columns = { 'FechaAtencion_': 'FechaAtencion' }, inplace = True )"
   ]
  },
  {
   "cell_type": "code",
   "execution_count": null,
   "metadata": {},
   "outputs": [],
   "source": [
    "rips_by_month.head()"
   ]
  },
  {
   "cell_type": "code",
   "execution_count": null,
   "metadata": {},
   "outputs": [],
   "source": [
    "fig = go.Figure( \n",
    "    data = go.Scatter( \n",
    "        x = rips_by_month[ 'FechaAtencion' ], \n",
    "        y = rips_by_month[ 'PersonaID_count' ],\n",
    "        line = dict( color = '#0071f0' )\n",
    "    )\n",
    ")\n",
    "fig.update_layout( \n",
    "    title = 'Number of health services requested by victim people over time',\n",
    "    yaxis = dict( range = [ 0, rips_by_month[ 'PersonaID_count' ].max() + 5000 ] ) \n",
    ")\n",
    "fig.show()"
   ]
  },
  {
   "cell_type": "code",
   "execution_count": null,
   "metadata": {},
   "outputs": [],
   "source": [
    "fig = go.Figure( \n",
    "    data = go.Scatter( \n",
    "        x = rips_by_month[ 'FechaAtencion' ], \n",
    "        y = rips_by_month[ 'PersonaID_nunique' ],\n",
    "        line = dict( color = '#317372' )\n",
    "    ) \n",
    ")\n",
    "fig.update_layout( \n",
    "    title = 'Number of victim people requesting health services over time',\n",
    "    yaxis = dict( range = [ 0, rips_by_month[ 'PersonaID_nunique' ].max() + 5000 ] ) \n",
    ")\n",
    "fig.show()"
   ]
  },
  {
   "cell_type": "code",
   "execution_count": null,
   "metadata": {},
   "outputs": [],
   "source": [
    "rips_by_age_sex = rips.groupby( [ 'RangoEdadAtencion', 'Sexo' ] ).agg( { 'PersonaID': lambda x: x.nunique() } ).rename( columns = { 'PersonaID': 'nunique' } ).reset_index()"
   ]
  },
  {
   "cell_type": "code",
   "execution_count": null,
   "metadata": {
    "scrolled": true
   },
   "outputs": [],
   "source": [
    "rips_by_age_sex = rips_by_age_sex.pivot( index = 'RangoEdadAtencion', columns = 'Sexo', values = 'nunique' ).reset_index()"
   ]
  },
  {
   "cell_type": "code",
   "execution_count": null,
   "metadata": {},
   "outputs": [],
   "source": [
    "rips_by_age_sex = pd.concat( [ rips_by_age_sex.loc[ rips_by_age_sex.index != 2 ], rips_by_age_sex.loc[ rips_by_age_sex.index == 2 ] ] )"
   ]
  },
  {
   "cell_type": "code",
   "execution_count": null,
   "metadata": {},
   "outputs": [],
   "source": [
    "rips_by_age_sex = pd.concat( [ rips_by_age_sex.iloc[ : 1 ], rips_by_age_sex.iloc[ 9 : 10 ], rips_by_age_sex.iloc[ 1 : 9 ], rips_by_age_sex.iloc[ 10 : ] ] )"
   ]
  },
  {
   "cell_type": "code",
   "execution_count": null,
   "metadata": {},
   "outputs": [],
   "source": [
    "rips_by_age_sex.dtypes"
   ]
  },
  {
   "cell_type": "code",
   "execution_count": null,
   "metadata": {},
   "outputs": [],
   "source": [
    "rips_by_age_sex"
   ]
  },
  {
   "cell_type": "code",
   "execution_count": null,
   "metadata": {},
   "outputs": [],
   "source": [
    "layout = go.Layout( title = 'Victim people per age and sex',\n",
    "                   yaxis = go.layout.YAxis( title = 'Age group' ),\n",
    "                   xaxis = go.layout.XAxis(\n",
    "                       range = [ -40000, 60000 ],\n",
    "                       title = 'Number of victim people'\n",
    "                   ),\n",
    "                   barmode = 'overlay',\n",
    "                   bargap = 0.1\n",
    "                  )\n",
    "\n",
    "data = [ go.Bar( y = rips_by_age_sex[ 'RangoEdadAtencion' ].astype( str ),\n",
    "                x = rips_by_age_sex[ 'MASCULINO' ] * -1,\n",
    "                orientation = 'h',\n",
    "                name = 'Men',\n",
    "                text = rips_by_age_sex[ 'MASCULINO' ],\n",
    "                hoverinfo = 'text',\n",
    "                marker = dict( color = '#beaed4' )\n",
    "               ),\n",
    "        go.Bar( y = rips_by_age_sex[ 'RangoEdadAtencion' ].astype( str ),\n",
    "               x = rips_by_age_sex[ 'FEMENINO' ],\n",
    "               orientation = 'h',\n",
    "               name ='Women',\n",
    "               text = rips_by_age_sex[ 'FEMENINO' ],\n",
    "               hoverinfo = 'text',\n",
    "               marker = dict( color = '#fdc086' )\n",
    "              ) \n",
    "       ]\n",
    "\n",
    "fig = go.Figure( dict( data = data, layout = layout ) )\n",
    "fig.show()"
   ]
  },
  {
   "cell_type": "code",
   "execution_count": null,
   "metadata": {},
   "outputs": [],
   "source": [
    "rips_by_att_type = rips.groupby( 'TipoAtencion' ).agg( { 'PersonaID': 'count' } ).reset_index().rename( columns = { 'PersonaID': 'count' } )"
   ]
  },
  {
   "cell_type": "code",
   "execution_count": null,
   "metadata": {},
   "outputs": [],
   "source": [
    "rips_by_att_type[ 'All' ] = 'All'\n",
    "rips_by_att_type"
   ]
  },
  {
   "cell_type": "code",
   "execution_count": null,
   "metadata": {},
   "outputs": [],
   "source": [
    "fig = px.treemap( rips_by_att_type, path=[ 'All', 'TipoAtencion' ], values = 'count' )\n",
    "fig.show()"
   ]
  },
  {
   "cell_type": "code",
   "execution_count": null,
   "metadata": {},
   "outputs": [],
   "source": [
    "fig = px.box( rips[ [ 'PersonaID', 'TipoAtencion', 'EdadAtencion', 'Sexo' ] ].drop_duplicates().sample( frac = .3 ), x = 'TipoAtencion', y = 'EdadAtencion', color = 'Sexo' )\n",
    "fig.show()"
   ]
  },
  {
   "cell_type": "raw",
   "metadata": {},
   "source": [
    "fig = px.box( rips[ [ 'PersonaID', 'DepartamentoAtencion', 'EdadAtencion', 'Sexo' ] ].drop_duplicates().sample( frac = .1 ), x = 'DepartamentoAtencion', y = 'EdadAtencion', color = 'Sexo' )\n",
    "fig.show()"
   ]
  },
  {
   "cell_type": "code",
   "execution_count": null,
   "metadata": {},
   "outputs": [],
   "source": [
    "fig = px.box( rips[ [ 'PersonaID', 'ICD-10', 'EdadAtencion', 'Sexo' ] ].drop_duplicates().sample( frac = .3 ), x = 'ICD-10', y = 'EdadAtencion', color = 'Sexo' )\n",
    "fig.show()"
   ]
  },
  {
   "cell_type": "code",
   "execution_count": null,
   "metadata": {},
   "outputs": [],
   "source": []
  },
  {
   "cell_type": "code",
   "execution_count": null,
   "metadata": {},
   "outputs": [],
   "source": []
  },
  {
   "cell_type": "code",
   "execution_count": null,
   "metadata": {},
   "outputs": [],
   "source": []
  },
  {
   "cell_type": "code",
   "execution_count": null,
   "metadata": {},
   "outputs": [],
   "source": []
  },
  {
   "cell_type": "code",
   "execution_count": null,
   "metadata": {},
   "outputs": [],
   "source": []
  }
 ],
 "metadata": {
  "kernelspec": {
   "display_name": "Python 3",
   "language": "python",
   "name": "python3"
  },
  "language_info": {
   "codemirror_mode": {
    "name": "ipython",
    "version": 3
   },
   "file_extension": ".py",
   "mimetype": "text/x-python",
   "name": "python",
   "nbconvert_exporter": "python",
   "pygments_lexer": "ipython3",
   "version": "3.7.6"
  }
 },
 "nbformat": 4,
 "nbformat_minor": 4
}
