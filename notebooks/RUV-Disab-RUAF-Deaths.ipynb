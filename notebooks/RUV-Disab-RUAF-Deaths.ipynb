{
 "cells": [
  {
   "cell_type": "code",
   "execution_count": 1,
   "metadata": {},
   "outputs": [],
   "source": [
    "import pandas as pd\n",
    "import matplotlib.pyplot as plt\n",
    "%matplotlib inline"
   ]
  },
  {
   "cell_type": "markdown",
   "metadata": {},
   "source": [
    "## RUV"
   ]
  },
  {
   "cell_type": "code",
   "execution_count": 7,
   "metadata": {},
   "outputs": [],
   "source": [
    "ruv = pd.read_csv( './data/raw/ExtraccionRUV.txt', sep = '|' )"
   ]
  },
  {
   "cell_type": "code",
   "execution_count": 8,
   "metadata": {},
   "outputs": [
    {
     "data": {
      "text/plain": [
       "(7801623, 12)"
      ]
     },
     "execution_count": 8,
     "metadata": {},
     "output_type": "execute_result"
    }
   ],
   "source": [
    "ruv.shape"
   ]
  },
  {
   "cell_type": "code",
   "execution_count": 9,
   "metadata": {},
   "outputs": [],
   "source": [
    "ruv.rename( columns = { 'MuncipioResidencia': 'MunicipioResidencia', 'MuncipioOcurrencia': 'MunicipioOcurrencia' }, inplace = True )"
   ]
  },
  {
   "cell_type": "code",
   "execution_count": 10,
   "metadata": {},
   "outputs": [],
   "source": [
    "ruv[ 'FechaNacimiento' ] = pd.to_datetime( pd.to_datetime( ruv[ 'FechaNacimiento' ] ).dt.date )"
   ]
  },
  {
   "cell_type": "code",
   "execution_count": 11,
   "metadata": {},
   "outputs": [],
   "source": [
    "ruv[ 'CodigoDepartamentoResidencia' ], ruv[ 'DepartamentoResidencia' ] = zip( *ruv[ 'DepartamentoResidencia' ].apply( lambda x: x.split( ' - ' ) ) )\n",
    "ruv[ 'CodigoDepartamentoResidencia' ] = ruv[ 'CodigoDepartamentoResidencia' ].astype( int )"
   ]
  },
  {
   "cell_type": "code",
   "execution_count": 12,
   "metadata": {},
   "outputs": [],
   "source": [
    "ruv[ 'CodigoMunicipioResidencia' ], ruv[ 'MunicipioResidencia' ] = zip( *ruv[ 'MunicipioResidencia' ].apply( lambda x: x.split( ' - ' ) ) )\n",
    "ruv[ 'CodigoMunicipioResidencia' ] = ruv[ 'CodigoMunicipioResidencia' ].astype( int )"
   ]
  },
  {
   "cell_type": "code",
   "execution_count": 13,
   "metadata": {},
   "outputs": [],
   "source": [
    "ruv[ 'CodigoDepartamentoOcurrencia' ], ruv[ 'DepartamentoOcurrencia' ] = zip( *ruv[ 'DepartamentoOcurrencia' ].apply( lambda x: x.split( ' - ' ) ) )\n",
    "ruv[ 'CodigoDepartamentoOcurrencia' ] = ruv[ 'CodigoDepartamentoOcurrencia' ].astype( int )"
   ]
  },
  {
   "cell_type": "code",
   "execution_count": 14,
   "metadata": {},
   "outputs": [],
   "source": [
    "ruv[ 'CodigoMunicipioOcurrencia' ], ruv[ 'MunicipioOcurrencia' ] = zip( *ruv[ 'MunicipioOcurrencia' ].apply( lambda x: x.split( ' - ' ) ) )\n",
    "ruv[ 'CodigoMunicipioOcurrencia' ] = ruv[ 'CodigoMunicipioOcurrencia' ].astype( int )"
   ]
  },
  {
   "cell_type": "code",
   "execution_count": 15,
   "metadata": {},
   "outputs": [],
   "source": [
    "ruv[ 'Sexo' ] = ruv[ 'Sexo' ].astype( 'category' )\n",
    "ruv[ 'Etnia' ] = ruv[ 'Etnia' ].astype( 'category' )\n",
    "ruv[ 'IndDiscapacidad' ] = ruv[ 'IndDiscapacidad' ].astype( 'category' )\n",
    "ruv[ 'Hecho' ] = ruv[ 'Hecho' ].astype( 'category' )\n",
    "ruv[ 'DepartamentoResidencia' ] = ruv[ 'DepartamentoResidencia' ].astype( 'category' )\n",
    "ruv[ 'MunicipioResidencia' ] = ruv[ 'MunicipioResidencia' ].astype( 'category' )\n",
    "ruv[ 'DepartamentoOcurrencia' ] = ruv[ 'DepartamentoOcurrencia' ].astype( 'category' )\n",
    "ruv[ 'MunicipioOcurrencia' ] = ruv[ 'MunicipioOcurrencia' ].astype( 'category' )\n",
    "ruv[ 'SujetoDesc' ] = ruv[ 'SujetoDesc' ].astype( 'category' )\n",
    "ruv[ 'ZonaOcurrencia' ] = ruv[ 'ZonaOcurrencia' ].astype( 'category' )"
   ]
  },
  {
   "cell_type": "code",
   "execution_count": 17,
   "metadata": {},
   "outputs": [
    {
     "data": {
      "text/plain": [
       "PersonaID                                int64\n",
       "Sexo                                  category\n",
       "Etnia                                 category\n",
       "IndDiscapacidad                       category\n",
       "FechaNacimiento                 datetime64[ns]\n",
       "Hecho                                 category\n",
       "DepartamentoResidencia                category\n",
       "MunicipioResidencia                   category\n",
       "DepartamentoOcurrencia                category\n",
       "MunicipioOcurrencia                   category\n",
       "SujetoDesc                            category\n",
       "ZonaOcurrencia                        category\n",
       "CodigoDepartamentoResidencia             int64\n",
       "CodigoMunicipioResidencia                int64\n",
       "CodigoDepartamentoOcurrencia             int64\n",
       "CodigoMunicipioOcurrencia                int64\n",
       "dtype: object"
      ]
     },
     "execution_count": 17,
     "metadata": {},
     "output_type": "execute_result"
    }
   ],
   "source": [
    "ruv.dtypes"
   ]
  },
  {
   "cell_type": "code",
   "execution_count": 19,
   "metadata": {},
   "outputs": [
    {
     "data": {
      "text/html": [
       "<div>\n",
       "<style scoped>\n",
       "    .dataframe tbody tr th:only-of-type {\n",
       "        vertical-align: middle;\n",
       "    }\n",
       "\n",
       "    .dataframe tbody tr th {\n",
       "        vertical-align: top;\n",
       "    }\n",
       "\n",
       "    .dataframe thead th {\n",
       "        text-align: right;\n",
       "    }\n",
       "</style>\n",
       "<table border=\"1\" class=\"dataframe\">\n",
       "  <thead>\n",
       "    <tr style=\"text-align: right;\">\n",
       "      <th></th>\n",
       "      <th>PersonaID</th>\n",
       "      <th>Sexo</th>\n",
       "      <th>Etnia</th>\n",
       "      <th>IndDiscapacidad</th>\n",
       "      <th>FechaNacimiento</th>\n",
       "      <th>Hecho</th>\n",
       "      <th>DepartamentoResidencia</th>\n",
       "      <th>MunicipioResidencia</th>\n",
       "      <th>DepartamentoOcurrencia</th>\n",
       "      <th>MunicipioOcurrencia</th>\n",
       "      <th>SujetoDesc</th>\n",
       "      <th>ZonaOcurrencia</th>\n",
       "      <th>CodigoDepartamentoResidencia</th>\n",
       "      <th>CodigoMunicipioResidencia</th>\n",
       "      <th>CodigoDepartamentoOcurrencia</th>\n",
       "      <th>CodigoMunicipioOcurrencia</th>\n",
       "    </tr>\n",
       "  </thead>\n",
       "  <tbody>\n",
       "    <tr>\n",
       "      <th>0</th>\n",
       "      <td>123094542</td>\n",
       "      <td>FEMENINO</td>\n",
       "      <td>NO REPORTADO</td>\n",
       "      <td>NO</td>\n",
       "      <td>1998-07-26</td>\n",
       "      <td>DESPLAZAMIENTO FORZADO</td>\n",
       "      <td>NO REPORTADO</td>\n",
       "      <td>No Reportado</td>\n",
       "      <td>Cauca</td>\n",
       "      <td>Guapi</td>\n",
       "      <td>NO REPORTADO</td>\n",
       "      <td>SIN INFORMACION</td>\n",
       "      <td>-1</td>\n",
       "      <td>3</td>\n",
       "      <td>19</td>\n",
       "      <td>19318</td>\n",
       "    </tr>\n",
       "    <tr>\n",
       "      <th>1</th>\n",
       "      <td>56101229</td>\n",
       "      <td>FEMENINO</td>\n",
       "      <td>NO REPORTADO</td>\n",
       "      <td>NO</td>\n",
       "      <td>1987-12-12</td>\n",
       "      <td>DESPLAZAMIENTO FORZADO</td>\n",
       "      <td>Meta</td>\n",
       "      <td>Vistahermosa</td>\n",
       "      <td>Meta</td>\n",
       "      <td>Vistahermosa</td>\n",
       "      <td>1. SUJETO DE ATENCION Y/O REPARACION</td>\n",
       "      <td>3 - AREA RURAL DISPERSA</td>\n",
       "      <td>50</td>\n",
       "      <td>50711</td>\n",
       "      <td>50</td>\n",
       "      <td>50711</td>\n",
       "    </tr>\n",
       "    <tr>\n",
       "      <th>2</th>\n",
       "      <td>856198</td>\n",
       "      <td>FEMENINO</td>\n",
       "      <td>NO REPORTADO</td>\n",
       "      <td>SI</td>\n",
       "      <td>1962-12-19</td>\n",
       "      <td>HOMICIDIO</td>\n",
       "      <td>Antioquia</td>\n",
       "      <td>Medellín</td>\n",
       "      <td>Antioquia</td>\n",
       "      <td>Medellín</td>\n",
       "      <td>2. SUJETOS DE ATENCION</td>\n",
       "      <td>SIN INFORMACION</td>\n",
       "      <td>5</td>\n",
       "      <td>5001</td>\n",
       "      <td>5</td>\n",
       "      <td>5001</td>\n",
       "    </tr>\n",
       "    <tr>\n",
       "      <th>3</th>\n",
       "      <td>39802643</td>\n",
       "      <td>FEMENINO</td>\n",
       "      <td>OTRAS ETNIAS</td>\n",
       "      <td>NO</td>\n",
       "      <td>1970-08-30</td>\n",
       "      <td>DESPLAZAMIENTO FORZADO</td>\n",
       "      <td>Atlántico</td>\n",
       "      <td>Soledad</td>\n",
       "      <td>Sucre</td>\n",
       "      <td>Chalán</td>\n",
       "      <td>1. SUJETO DE ATENCION Y/O REPARACION</td>\n",
       "      <td>3 - AREA RURAL DISPERSA</td>\n",
       "      <td>8</td>\n",
       "      <td>8758</td>\n",
       "      <td>70</td>\n",
       "      <td>70230</td>\n",
       "    </tr>\n",
       "    <tr>\n",
       "      <th>4</th>\n",
       "      <td>31984449</td>\n",
       "      <td>FEMENINO</td>\n",
       "      <td>NO REPORTADO</td>\n",
       "      <td>NO</td>\n",
       "      <td>1968-03-23</td>\n",
       "      <td>DESPLAZAMIENTO FORZADO</td>\n",
       "      <td>La Guajira</td>\n",
       "      <td>Riohacha</td>\n",
       "      <td>La Guajira</td>\n",
       "      <td>Riohacha</td>\n",
       "      <td>6. NO ACTIVOS PARA ATENCION NO SOLICITUD AYUDA</td>\n",
       "      <td>SIN INFORMACION</td>\n",
       "      <td>44</td>\n",
       "      <td>44001</td>\n",
       "      <td>44</td>\n",
       "      <td>44001</td>\n",
       "    </tr>\n",
       "  </tbody>\n",
       "</table>\n",
       "</div>"
      ],
      "text/plain": [
       "   PersonaID      Sexo         Etnia IndDiscapacidad FechaNacimiento  \\\n",
       "0  123094542  FEMENINO  NO REPORTADO              NO      1998-07-26   \n",
       "1   56101229  FEMENINO  NO REPORTADO              NO      1987-12-12   \n",
       "2     856198  FEMENINO  NO REPORTADO              SI      1962-12-19   \n",
       "3   39802643  FEMENINO  OTRAS ETNIAS              NO      1970-08-30   \n",
       "4   31984449  FEMENINO  NO REPORTADO              NO      1968-03-23   \n",
       "\n",
       "                    Hecho DepartamentoResidencia MunicipioResidencia  \\\n",
       "0  DESPLAZAMIENTO FORZADO           NO REPORTADO        No Reportado   \n",
       "1  DESPLAZAMIENTO FORZADO                   Meta        Vistahermosa   \n",
       "2               HOMICIDIO              Antioquia            Medellín   \n",
       "3  DESPLAZAMIENTO FORZADO              Atlántico             Soledad   \n",
       "4  DESPLAZAMIENTO FORZADO             La Guajira            Riohacha   \n",
       "\n",
       "  DepartamentoOcurrencia MunicipioOcurrencia  \\\n",
       "0                  Cauca               Guapi   \n",
       "1                   Meta        Vistahermosa   \n",
       "2              Antioquia            Medellín   \n",
       "3                  Sucre              Chalán   \n",
       "4             La Guajira            Riohacha   \n",
       "\n",
       "                                       SujetoDesc           ZonaOcurrencia  \\\n",
       "0                                    NO REPORTADO          SIN INFORMACION   \n",
       "1            1. SUJETO DE ATENCION Y/O REPARACION  3 - AREA RURAL DISPERSA   \n",
       "2                          2. SUJETOS DE ATENCION          SIN INFORMACION   \n",
       "3            1. SUJETO DE ATENCION Y/O REPARACION  3 - AREA RURAL DISPERSA   \n",
       "4  6. NO ACTIVOS PARA ATENCION NO SOLICITUD AYUDA          SIN INFORMACION   \n",
       "\n",
       "   CodigoDepartamentoResidencia  CodigoMunicipioResidencia  \\\n",
       "0                            -1                          3   \n",
       "1                            50                      50711   \n",
       "2                             5                       5001   \n",
       "3                             8                       8758   \n",
       "4                            44                      44001   \n",
       "\n",
       "   CodigoDepartamentoOcurrencia  CodigoMunicipioOcurrencia  \n",
       "0                            19                      19318  \n",
       "1                            50                      50711  \n",
       "2                             5                       5001  \n",
       "3                            70                      70230  \n",
       "4                            44                      44001  "
      ]
     },
     "execution_count": 19,
     "metadata": {},
     "output_type": "execute_result"
    }
   ],
   "source": [
    "ruv.head()"
   ]
  },
  {
   "cell_type": "code",
   "execution_count": 20,
   "metadata": {},
   "outputs": [
    {
     "data": {
      "text/plain": [
       "113248255    1\n",
       "33215892     1\n",
       "2049629      1\n",
       "129662337    1\n",
       "75598145     1\n",
       "            ..\n",
       "77859940     1\n",
       "111714412    1\n",
       "115910765    1\n",
       "100665933    1\n",
       "33554432     1\n",
       "Name: PersonaID, Length: 7801623, dtype: int64"
      ]
     },
     "execution_count": 20,
     "metadata": {},
     "output_type": "execute_result"
    }
   ],
   "source": [
    "ruv[ 'PersonaID' ].value_counts( dropna = False )"
   ]
  },
  {
   "cell_type": "code",
   "execution_count": 21,
   "metadata": {},
   "outputs": [
    {
     "data": {
      "text/plain": [
       "FEMENINO             0.492081\n",
       "MASCULINO            0.476807\n",
       "NR - NO REPORTADO    0.028220\n",
       "NO DEFINIDO          0.002892\n",
       "Name: Sexo, dtype: float64"
      ]
     },
     "execution_count": 21,
     "metadata": {},
     "output_type": "execute_result"
    }
   ],
   "source": [
    "ruv[ 'Sexo' ].value_counts( dropna = False, normalize = True )"
   ]
  },
  {
   "cell_type": "code",
   "execution_count": 22,
   "metadata": {},
   "outputs": [
    {
     "data": {
      "text/plain": [
       "NO REPORTADO                                0.690477\n",
       "OTRAS ETNIAS                                0.250830\n",
       "INDÍGENA                                    0.031635\n",
       "NEGRO, MULATO, AFROCOLOMBIANO O AFRODESC    0.026548\n",
       "ROM (GITANO)                                0.000325\n",
       "RAIZAL (SAN ANDRES Y PROVIDENCIA)           0.000089\n",
       "NO INFORMA                                  0.000039\n",
       "PALENQUERO DE SAN BASILIO                   0.000029\n",
       "NO DEFINIDO                                 0.000028\n",
       "Name: Etnia, dtype: float64"
      ]
     },
     "execution_count": 22,
     "metadata": {},
     "output_type": "execute_result"
    }
   ],
   "source": [
    "ruv[ 'Etnia' ].value_counts( dropna = False, normalize = True )"
   ]
  },
  {
   "cell_type": "code",
   "execution_count": 23,
   "metadata": {},
   "outputs": [
    {
     "data": {
      "text/plain": [
       "NO    0.974444\n",
       "SI    0.025556\n",
       "Name: IndDiscapacidad, dtype: float64"
      ]
     },
     "execution_count": 23,
     "metadata": {},
     "output_type": "execute_result"
    }
   ],
   "source": [
    "ruv[ 'IndDiscapacidad' ].value_counts( dropna = False, normalize = True )"
   ]
  },
  {
   "cell_type": "code",
   "execution_count": 24,
   "metadata": {},
   "outputs": [
    {
     "data": {
      "text/plain": [
       "count                 7779922\n",
       "unique                  39090\n",
       "top       1900-01-01 00:00:00\n",
       "freq                     8198\n",
       "first     1800-01-01 00:00:00\n",
       "last      2098-11-26 00:00:00\n",
       "Name: FechaNacimiento, dtype: object"
      ]
     },
     "execution_count": 24,
     "metadata": {},
     "output_type": "execute_result"
    }
   ],
   "source": [
    "ruv[ 'FechaNacimiento' ].describe()"
   ]
  },
  {
   "cell_type": "code",
   "execution_count": 25,
   "metadata": {},
   "outputs": [
    {
     "data": {
      "text/plain": [
       "DESPLAZAMIENTO FORZADO                                                                     0.848799\n",
       "HOMICIDIO                                                                                  0.088431\n",
       "AMENAZA                                                                                    0.026124\n",
       "DESAPARICIÓN FORZADA                                                                       0.013148\n",
       "PERDIDA DE BIENES MUEBLES O INMUEBLES                                                      0.008369\n",
       "ACTO TERRORISTA / ATENTADOS / COMBATES / ENFRENTAMIENTOS / HOSTIGAMIENTOS                  0.006501\n",
       "SECUESTRO                                                                                  0.002515\n",
       "NO DEFINIDO                                                                                0.002023\n",
       "DELITOS CONTRA LA LIBERTAD Y LA INTEGRIDAD SEXUAL EN DESARROLLO DEL CONFLICTO ARMADO       0.001539\n",
       "MINAS ANTIPERSONAL, MUNICIÓN SIN EXPLOTAR Y ARTEFACTO EXPLOSIVO IMPROVISADO                0.000920\n",
       "VINCULACIÓN DE NIÑOS NIÑAS Y ADOLESCENTES A ACTIVIDADES RELACIONADAS CON GRUPOS ARMADOS    0.000576\n",
       "TORTURA                                                                                    0.000532\n",
       "ABANDONO O DESPOJO FORZADO DE TIERRAS                                                      0.000524\n",
       "Name: Hecho, dtype: float64"
      ]
     },
     "execution_count": 25,
     "metadata": {},
     "output_type": "execute_result"
    }
   ],
   "source": [
    "ruv[ 'Hecho' ].value_counts( dropna = False, normalize = True )"
   ]
  },
  {
   "cell_type": "code",
   "execution_count": 26,
   "metadata": {},
   "outputs": [
    {
     "data": {
      "text/plain": [
       "1. SUJETO DE ATENCION Y/O REPARACION              0.745731\n",
       "6. NO ACTIVOS PARA ATENCION NO SOLICITUD AYUDA    0.082546\n",
       "NO REPORTADO                                      0.075516\n",
       "4. REPORTE FALLECIDOS                             0.052797\n",
       "2. SUJETOS DE ATENCION                            0.042552\n",
       "5. NO ACTIVOS PARA ATENCION INDOCUMENTADOS        0.000857\n",
       "Name: SujetoDesc, dtype: float64"
      ]
     },
     "execution_count": 26,
     "metadata": {},
     "output_type": "execute_result"
    }
   ],
   "source": [
    "ruv[ 'SujetoDesc' ].value_counts( dropna = False, normalize = True )"
   ]
  },
  {
   "cell_type": "code",
   "execution_count": 27,
   "metadata": {},
   "outputs": [
    {
     "data": {
      "text/plain": [
       "SIN INFORMACION            0.499696\n",
       "3 - AREA RURAL DISPERSA    0.437643\n",
       "1 - CABECERA               0.062661\n",
       "Name: ZonaOcurrencia, dtype: float64"
      ]
     },
     "execution_count": 27,
     "metadata": {},
     "output_type": "execute_result"
    }
   ],
   "source": [
    "ruv[ 'ZonaOcurrencia' ].value_counts( dropna = False, normalize = True )"
   ]
  },
  {
   "cell_type": "code",
   "execution_count": 28,
   "metadata": {},
   "outputs": [
    {
     "data": {
      "text/plain": [
       "NO REPORTADO                                                0.297474\n",
       "Antioquia                                                   0.132126\n",
       "Bogotá, D.C.                                                0.051025\n",
       "Valle del Cauca                                             0.039808\n",
       "Bolívar                                                     0.037086\n",
       "Nariño                                                      0.031424\n",
       "Magdalena                                                   0.030709\n",
       "Cesar                                                       0.030353\n",
       "Sucre                                                       0.028247\n",
       "NO DEFINIDO                                                 0.028141\n",
       "Córdoba                                                     0.027514\n",
       "Santander                                                   0.023620\n",
       "Cauca                                                       0.023326\n",
       "Meta                                                        0.022272\n",
       "Norte de Santander                                          0.020321\n",
       "Atlántico                                                   0.019660\n",
       "Caquetá                                                     0.018854\n",
       "Huila                                                       0.017503\n",
       "Chocó                                                       0.017134\n",
       "Tolima                                                      0.016255\n",
       "Cundinamarca                                                0.014949\n",
       "La Guajira                                                  0.013522\n",
       "Putumayo                                                    0.013455\n",
       "Risaralda                                                   0.009466\n",
       "Arauca                                                      0.008303\n",
       "Caldas                                                      0.007900\n",
       "Quindio                                                     0.005169\n",
       "Casanare                                                    0.005142\n",
       "Guaviare                                                    0.003708\n",
       "Boyacá                                                      0.003025\n",
       "Guainía                                                     0.001061\n",
       "Vichada                                                     0.000754\n",
       "Vaupés                                                      0.000438\n",
       "Amazonas                                                    0.000234\n",
       "Archipiélago de San Andrés, Providencia y Santa Catalina    0.000022\n",
       "Name: DepartamentoResidencia, dtype: float64"
      ]
     },
     "execution_count": 28,
     "metadata": {},
     "output_type": "execute_result"
    }
   ],
   "source": [
    "ruv[ 'DepartamentoResidencia' ].value_counts( dropna = False, normalize = True )"
   ]
  },
  {
   "cell_type": "code",
   "execution_count": 29,
   "metadata": {},
   "outputs": [
    {
     "data": {
      "text/plain": [
       "Antioquia                                                   0.197438\n",
       "Bolívar                                                     0.072391\n",
       "Nariño                                                      0.055564\n",
       "Magdalena                                                   0.054945\n",
       "Valle del Cauca                                             0.053078\n",
       "Cauca                                                       0.049976\n",
       "Cesar                                                       0.049958\n",
       "Chocó                                                       0.045757\n",
       "Córdoba                                                     0.044051\n",
       "Caquetá                                                     0.039625\n",
       "Tolima                                                      0.038821\n",
       "Norte de Santander                                          0.036332\n",
       "Sucre                                                       0.033410\n",
       "Putumayo                                                    0.030073\n",
       "Meta                                                        0.029665\n",
       "Santander                                                   0.022988\n",
       "Huila                                                       0.019364\n",
       "La Guajira                                                  0.018003\n",
       "Arauca                                                      0.016649\n",
       "Caldas                                                      0.016312\n",
       "Cundinamarca                                                0.015197\n",
       "NO DEFINIDO                                                 0.014870\n",
       "Guaviare                                                    0.010154\n",
       "Risaralda                                                   0.008327\n",
       "Casanare                                                    0.007870\n",
       "Boyacá                                                      0.005030\n",
       "Atlántico                                                   0.003232\n",
       "Vichada                                                     0.002861\n",
       "Bogotá, D.C.                                                0.002739\n",
       "Quindio                                                     0.002326\n",
       "Vaupés                                                      0.001366\n",
       "Guainía                                                     0.001060\n",
       "Amazonas                                                    0.000356\n",
       "NO REPORTADO                                                0.000197\n",
       "Archipiélago de San Andrés, Providencia y Santa Catalina    0.000014\n",
       "Name: DepartamentoOcurrencia, dtype: float64"
      ]
     },
     "execution_count": 29,
     "metadata": {},
     "output_type": "execute_result"
    }
   ],
   "source": [
    "ruv[ 'DepartamentoOcurrencia' ].value_counts( dropna = False, normalize = True )"
   ]
  },
  {
   "cell_type": "markdown",
   "metadata": {},
   "source": [
    "## Disability"
   ]
  },
  {
   "cell_type": "code",
   "execution_count": 30,
   "metadata": {},
   "outputs": [],
   "source": [
    "disc = pd.read_csv( './data/raw/ExtraccionRUV-DISCAPACIDAD.txt', sep = '|' )"
   ]
  },
  {
   "cell_type": "code",
   "execution_count": 31,
   "metadata": {},
   "outputs": [
    {
     "data": {
      "text/plain": [
       "(201786, 6)"
      ]
     },
     "execution_count": 31,
     "metadata": {},
     "output_type": "execute_result"
    }
   ],
   "source": [
    "disc.shape"
   ]
  },
  {
   "cell_type": "code",
   "execution_count": 32,
   "metadata": {},
   "outputs": [],
   "source": [
    "disc[ 'FechaRegistro' ] = pd.to_datetime( pd.to_datetime( disc[ 'FechaRegistro' ], format = '%Y%m%d' ).dt.date )"
   ]
  },
  {
   "cell_type": "code",
   "execution_count": 33,
   "metadata": {},
   "outputs": [],
   "source": [
    "disc[ 'CodigoDepartamentoRegistro' ], disc[ 'DepartamentoRegistro' ] = zip( *disc[ 'DepartamentoRegistro' ].apply( lambda x: x.split( ' - ' ) ) )\n",
    "disc[ 'CodigoDepartamentoRegistro' ] = disc[ 'CodigoDepartamentoRegistro' ].astype( int )"
   ]
  },
  {
   "cell_type": "code",
   "execution_count": 34,
   "metadata": {},
   "outputs": [],
   "source": [
    "disc[ 'CodigoMunicipioRegistro' ], disc[ 'MunicipioRegistro' ] = zip( *disc[ 'MunicipioRegistro' ].apply( lambda x: x.split( ' - ' ) ) )\n",
    "disc[ 'CodigoMunicipioRegistro' ] = disc[ 'CodigoMunicipioRegistro' ].astype( int )"
   ]
  },
  {
   "cell_type": "code",
   "execution_count": 37,
   "metadata": {},
   "outputs": [],
   "source": [
    "disc[ 'TipoAlteracion' ] = disc[ 'TipoAlteracion' ].astype( 'category' )\n",
    "disc[ 'OrigenDiscapacidad' ] = disc[ 'OrigenDiscapacidad' ].astype( 'category' )\n",
    "disc[ 'DepartamentoRegistro' ] = disc[ 'DepartamentoRegistro' ].astype( 'category' )\n",
    "disc[ 'MunicipioRegistro' ] = disc[ 'MunicipioRegistro' ].astype( 'category' )"
   ]
  },
  {
   "cell_type": "code",
   "execution_count": 38,
   "metadata": {},
   "outputs": [
    {
     "data": {
      "text/plain": [
       "PersonaID                              int64\n",
       "FechaRegistro                 datetime64[ns]\n",
       "TipoAlteracion                      category\n",
       "OrigenDiscapacidad                  category\n",
       "DepartamentoRegistro                category\n",
       "MunicipioRegistro                   category\n",
       "CodigoDepartamentoRegistro             int64\n",
       "CodigoMunicipioRegistro                int64\n",
       "dtype: object"
      ]
     },
     "execution_count": 38,
     "metadata": {},
     "output_type": "execute_result"
    }
   ],
   "source": [
    "disc.dtypes"
   ]
  },
  {
   "cell_type": "code",
   "execution_count": 39,
   "metadata": {},
   "outputs": [
    {
     "data": {
      "text/html": [
       "<div>\n",
       "<style scoped>\n",
       "    .dataframe tbody tr th:only-of-type {\n",
       "        vertical-align: middle;\n",
       "    }\n",
       "\n",
       "    .dataframe tbody tr th {\n",
       "        vertical-align: top;\n",
       "    }\n",
       "\n",
       "    .dataframe thead th {\n",
       "        text-align: right;\n",
       "    }\n",
       "</style>\n",
       "<table border=\"1\" class=\"dataframe\">\n",
       "  <thead>\n",
       "    <tr style=\"text-align: right;\">\n",
       "      <th></th>\n",
       "      <th>PersonaID</th>\n",
       "      <th>FechaRegistro</th>\n",
       "      <th>TipoAlteracion</th>\n",
       "      <th>OrigenDiscapacidad</th>\n",
       "      <th>DepartamentoRegistro</th>\n",
       "      <th>MunicipioRegistro</th>\n",
       "      <th>CodigoDepartamentoRegistro</th>\n",
       "      <th>CodigoMunicipioRegistro</th>\n",
       "    </tr>\n",
       "  </thead>\n",
       "  <tbody>\n",
       "    <tr>\n",
       "      <th>0</th>\n",
       "      <td>11809261</td>\n",
       "      <td>2017-09-07</td>\n",
       "      <td>El sistema nervioso</td>\n",
       "      <td>ALTERACION GENETICA, HEREDITARIA</td>\n",
       "      <td>Antioquia</td>\n",
       "      <td>Medellín</td>\n",
       "      <td>5</td>\n",
       "      <td>5001</td>\n",
       "    </tr>\n",
       "    <tr>\n",
       "      <th>1</th>\n",
       "      <td>41158506</td>\n",
       "      <td>2014-10-21</td>\n",
       "      <td>Los ojos</td>\n",
       "      <td>NO APLICA</td>\n",
       "      <td>Cesar</td>\n",
       "      <td>Valledupar</td>\n",
       "      <td>20</td>\n",
       "      <td>20001</td>\n",
       "    </tr>\n",
       "    <tr>\n",
       "      <th>2</th>\n",
       "      <td>51789384</td>\n",
       "      <td>2014-04-05</td>\n",
       "      <td>Los ojos</td>\n",
       "      <td>NO APLICA</td>\n",
       "      <td>Cesar</td>\n",
       "      <td>Pailitas</td>\n",
       "      <td>20</td>\n",
       "      <td>20517</td>\n",
       "    </tr>\n",
       "    <tr>\n",
       "      <th>3</th>\n",
       "      <td>33925358</td>\n",
       "      <td>2018-02-20</td>\n",
       "      <td>El movimiento del cuerpo, manos, brazos, piernas</td>\n",
       "      <td>ENFERMEDAD EN GENERAL</td>\n",
       "      <td>Antioquia</td>\n",
       "      <td>Chigorodó</td>\n",
       "      <td>5</td>\n",
       "      <td>5172</td>\n",
       "    </tr>\n",
       "    <tr>\n",
       "      <th>4</th>\n",
       "      <td>12101298</td>\n",
       "      <td>2003-10-13</td>\n",
       "      <td>El sistema cardiorespiratorio y las defensas</td>\n",
       "      <td>NO APLICA</td>\n",
       "      <td>Bogotá, D.C.</td>\n",
       "      <td>Bogotá, D.C.</td>\n",
       "      <td>11</td>\n",
       "      <td>11001</td>\n",
       "    </tr>\n",
       "  </tbody>\n",
       "</table>\n",
       "</div>"
      ],
      "text/plain": [
       "   PersonaID FechaRegistro                                    TipoAlteracion  \\\n",
       "0   11809261    2017-09-07                               El sistema nervioso   \n",
       "1   41158506    2014-10-21                                          Los ojos   \n",
       "2   51789384    2014-04-05                                          Los ojos   \n",
       "3   33925358    2018-02-20  El movimiento del cuerpo, manos, brazos, piernas   \n",
       "4   12101298    2003-10-13      El sistema cardiorespiratorio y las defensas   \n",
       "\n",
       "                 OrigenDiscapacidad DepartamentoRegistro MunicipioRegistro  \\\n",
       "0  ALTERACION GENETICA, HEREDITARIA            Antioquia          Medellín   \n",
       "1                         NO APLICA                Cesar        Valledupar   \n",
       "2                         NO APLICA                Cesar          Pailitas   \n",
       "3             ENFERMEDAD EN GENERAL            Antioquia         Chigorodó   \n",
       "4                         NO APLICA         Bogotá, D.C.      Bogotá, D.C.   \n",
       "\n",
       "   CodigoDepartamentoRegistro  CodigoMunicipioRegistro  \n",
       "0                           5                     5001  \n",
       "1                          20                    20001  \n",
       "2                          20                    20517  \n",
       "3                           5                     5172  \n",
       "4                          11                    11001  "
      ]
     },
     "execution_count": 39,
     "metadata": {},
     "output_type": "execute_result"
    }
   ],
   "source": [
    "disc.head()"
   ]
  },
  {
   "cell_type": "code",
   "execution_count": 40,
   "metadata": {},
   "outputs": [
    {
     "data": {
      "text/plain": [
       "2625534     1\n",
       "13996651    1\n",
       "44672645    1\n",
       "38948457    1\n",
       "31634556    1\n",
       "           ..\n",
       "54465207    1\n",
       "20360929    1\n",
       "51841716    1\n",
       "22137104    1\n",
       "5200265     1\n",
       "Name: PersonaID, Length: 201786, dtype: int64"
      ]
     },
     "execution_count": 40,
     "metadata": {},
     "output_type": "execute_result"
    }
   ],
   "source": [
    "disc[ 'PersonaID' ].value_counts( dropna = False )"
   ]
  },
  {
   "cell_type": "code",
   "execution_count": 41,
   "metadata": {},
   "outputs": [
    {
     "data": {
      "text/plain": [
       "count                  201786\n",
       "unique                   5341\n",
       "top       2014-12-03 00:00:00\n",
       "freq                      425\n",
       "first     2002-02-05 00:00:00\n",
       "last      2019-03-31 00:00:00\n",
       "Name: FechaRegistro, dtype: object"
      ]
     },
     "execution_count": 41,
     "metadata": {},
     "output_type": "execute_result"
    }
   ],
   "source": [
    "disc[ 'FechaRegistro' ].describe()"
   ]
  },
  {
   "cell_type": "code",
   "execution_count": 42,
   "metadata": {},
   "outputs": [
    {
     "data": {
      "text/plain": [
       "El movimiento del cuerpo, manos, brazos, piernas             0.379645\n",
       "El sistema nervioso                                          0.235329\n",
       "Los ojos                                                     0.153678\n",
       "El sistema cardiorespiratorio y las defensas                 0.077865\n",
       "Los oidos                                                    0.048958\n",
       "La voz y el habla                                            0.048482\n",
       "La digestion, el metabolismo, las hormonas                   0.024338\n",
       "El sistema genital y reproductivo                            0.015502\n",
       "La piel                                                      0.008202\n",
       "Los demas organos de los sentidos (olfato, tacto y gusto)    0.004758\n",
       "No Reportado                                                 0.003246\n",
       "Name: TipoAlteracion, dtype: float64"
      ]
     },
     "execution_count": 42,
     "metadata": {},
     "output_type": "execute_result"
    }
   ],
   "source": [
    "disc[ 'TipoAlteracion' ].value_counts( dropna = False, normalize = True )"
   ]
  },
  {
   "cell_type": "code",
   "execution_count": 43,
   "metadata": {},
   "outputs": [
    {
     "data": {
      "text/plain": [
       "NO APLICA                           0.346882\n",
       "ENFERMEDAD EN GENERAL               0.250820\n",
       "ACCIDENTE                           0.139737\n",
       "ALTERACION GENETICA, HEREDITARIA    0.074227\n",
       "CONDICIONES DE SALUD                0.049657\n",
       "VICTIMA DE VIOLENCIA                0.034948\n",
       "OTRA CAUSA                          0.032366\n",
       "COMPLICACIONES EN EL PARTO          0.023163\n",
       "CONFLICTO ARMADO                    0.021032\n",
       "ENFERMEDAD PROFESIONAL              0.009024\n",
       "DIFICULTADES EN LA PRESTACION       0.008420\n",
       "LESION AUTOINFLIGIDA                0.003811\n",
       "CONSUMO DE PSICOACTIVOS             0.003732\n",
       "DESASTRE NATURAL                    0.001105\n",
       "NO DEFINIDO                         0.001075\n",
       "Name: OrigenDiscapacidad, dtype: float64"
      ]
     },
     "execution_count": 43,
     "metadata": {},
     "output_type": "execute_result"
    }
   ],
   "source": [
    "disc[ 'OrigenDiscapacidad' ].value_counts( dropna = False, normalize = True )"
   ]
  },
  {
   "cell_type": "code",
   "execution_count": 44,
   "metadata": {},
   "outputs": [
    {
     "data": {
      "text/plain": [
       "Bogotá, D.C.                                                0.304496\n",
       "Antioquia                                                   0.152568\n",
       "Cesar                                                       0.057011\n",
       "Huila                                                       0.041415\n",
       "Bolívar                                                     0.040736\n",
       "Sucre                                                       0.038863\n",
       "Valle del Cauca                                             0.037158\n",
       "Nariño                                                      0.029105\n",
       "Magdalena                                                   0.027856\n",
       "Santander                                                   0.026355\n",
       "Cauca                                                       0.024486\n",
       "Meta                                                        0.022930\n",
       "Tolima                                                      0.021374\n",
       "Córdoba                                                     0.019734\n",
       "Caldas                                                      0.019694\n",
       "Caquetá                                                     0.016418\n",
       "Norte de Santander                                          0.015715\n",
       "Putumayo                                                    0.013554\n",
       "Risaralda                                                   0.012464\n",
       "Atlántico                                                   0.011398\n",
       "Arauca                                                      0.010680\n",
       "Cundinamarca                                                0.010239\n",
       "Casanare                                                    0.010144\n",
       "Quindio                                                     0.009951\n",
       "La Guajira                                                  0.009158\n",
       "Chocó                                                       0.007508\n",
       "Boyacá                                                      0.004544\n",
       "Guaviare                                                    0.002408\n",
       "Vaupés                                                      0.000689\n",
       "Vichada                                                     0.000595\n",
       "Guainía                                                     0.000401\n",
       "Amazonas                                                    0.000307\n",
       "Archipiélago de San Andrés, Providencia y Santa Catalina    0.000045\n",
       "Name: DepartamentoRegistro, dtype: float64"
      ]
     },
     "execution_count": 44,
     "metadata": {},
     "output_type": "execute_result"
    }
   ],
   "source": [
    "disc[ 'DepartamentoRegistro' ].value_counts( dropna = False, normalize = True )"
   ]
  },
  {
   "cell_type": "markdown",
   "metadata": {},
   "source": [
    "## RUAF"
   ]
  },
  {
   "cell_type": "code",
   "execution_count": 66,
   "metadata": {},
   "outputs": [],
   "source": [
    "ruaf = pd.read_csv( './data/raw/ExtraccionRUV-RUAF.txt', sep = '|' )"
   ]
  },
  {
   "cell_type": "code",
   "execution_count": 67,
   "metadata": {},
   "outputs": [
    {
     "data": {
      "text/plain": [
       "(7046682, 9)"
      ]
     },
     "execution_count": 67,
     "metadata": {},
     "output_type": "execute_result"
    }
   ],
   "source": [
    "ruaf.shape"
   ]
  },
  {
   "cell_type": "code",
   "execution_count": 68,
   "metadata": {},
   "outputs": [],
   "source": [
    "ruaf.rename( columns = { 'PersonaBasicaID': 'PersonaID' }, inplace = True )"
   ]
  },
  {
   "cell_type": "code",
   "execution_count": 69,
   "metadata": {},
   "outputs": [],
   "source": [
    "ruaf = ruaf[ ruaf[ 'PersonaID' ] != 1 ]"
   ]
  },
  {
   "cell_type": "code",
   "execution_count": 70,
   "metadata": {},
   "outputs": [],
   "source": [
    "ruaf.drop_duplicates( inplace = True )"
   ]
  },
  {
   "cell_type": "code",
   "execution_count": 71,
   "metadata": {},
   "outputs": [],
   "source": [
    "ruaf[ 'FechaAfiliacion' ] = pd.to_datetime( pd.to_datetime( ruaf[ 'FechaAfiliacion' ] ).dt.date )"
   ]
  },
  {
   "cell_type": "code",
   "execution_count": 76,
   "metadata": {},
   "outputs": [],
   "source": [
    "ruaf[ 'CodigoDepartamentoAfiliacion' ], ruaf[ 'DepartamentoAfiliacion' ] = zip( *ruaf[ 'DepartamentoAfiliacion' ].fillna( '-1 - NO DEFINIDO' ).apply( lambda x: x.split( ' - ' ) ) )\n",
    "ruaf[ 'CodigoDepartamentoAfiliacion' ] = ruaf[ 'CodigoDepartamentoAfiliacion' ].astype( int )"
   ]
  },
  {
   "cell_type": "code",
   "execution_count": 77,
   "metadata": {},
   "outputs": [],
   "source": [
    "ruaf[ 'CodigoMunicipioAfiliacion' ], ruaf[ 'MunicipioAfiliacion' ] = zip( *ruaf[ 'MunicipioAfiliacion' ].fillna( '-1 - NO DEFINIDO' ).apply( lambda x: x.split( ' - ' ) ) )\n",
    "ruaf[ 'CodigoMunicipioAfiliacion' ] = ruaf[ 'CodigoMunicipioAfiliacion' ].astype( int )"
   ]
  },
  {
   "cell_type": "code",
   "execution_count": 80,
   "metadata": {},
   "outputs": [],
   "source": [
    "ruaf[ 'TipoRegimen' ] = ruaf[ 'TipoRegimen' ].astype( 'category' )\n",
    "ruaf[ 'EstadoAfiliacion' ] = ruaf[ 'EstadoAfiliacion' ].astype( 'category' )\n",
    "ruaf[ 'Administradora' ] = ruaf[ 'Administradora' ].astype( 'category' )\n",
    "ruaf[ 'TipoAfiliado' ] = ruaf[ 'TipoAfiliado' ].astype( 'category' )\n",
    "ruaf[ 'DepartamentoAfiliacion' ] = ruaf[ 'DepartamentoAfiliacion' ].astype( 'category' )\n",
    "ruaf[ 'MunicipioAfiliacion' ] = ruaf[ 'MunicipioAfiliacion' ].astype( 'category' )\n",
    "ruaf[ 'Area' ] = ruaf[ 'Area' ].astype( 'category' )"
   ]
  },
  {
   "cell_type": "code",
   "execution_count": 81,
   "metadata": {},
   "outputs": [
    {
     "data": {
      "text/plain": [
       "PersonaID                                int64\n",
       "TipoRegimen                           category\n",
       "EstadoAfiliacion                      category\n",
       "Administradora                        category\n",
       "TipoAfiliado                          category\n",
       "DepartamentoAfiliacion                category\n",
       "MunicipioAfiliacion                   category\n",
       "FechaAfiliacion                 datetime64[ns]\n",
       "Area                                  category\n",
       "CodigoDepartamentoAfiliacion             int64\n",
       "CodigoMunicipioAfiliacion                int64\n",
       "dtype: object"
      ]
     },
     "execution_count": 81,
     "metadata": {},
     "output_type": "execute_result"
    }
   ],
   "source": [
    "ruaf.dtypes"
   ]
  },
  {
   "cell_type": "code",
   "execution_count": 82,
   "metadata": {},
   "outputs": [
    {
     "data": {
      "text/html": [
       "<div>\n",
       "<style scoped>\n",
       "    .dataframe tbody tr th:only-of-type {\n",
       "        vertical-align: middle;\n",
       "    }\n",
       "\n",
       "    .dataframe tbody tr th {\n",
       "        vertical-align: top;\n",
       "    }\n",
       "\n",
       "    .dataframe thead th {\n",
       "        text-align: right;\n",
       "    }\n",
       "</style>\n",
       "<table border=\"1\" class=\"dataframe\">\n",
       "  <thead>\n",
       "    <tr style=\"text-align: right;\">\n",
       "      <th></th>\n",
       "      <th>PersonaID</th>\n",
       "      <th>TipoRegimen</th>\n",
       "      <th>EstadoAfiliacion</th>\n",
       "      <th>Administradora</th>\n",
       "      <th>TipoAfiliado</th>\n",
       "      <th>DepartamentoAfiliacion</th>\n",
       "      <th>MunicipioAfiliacion</th>\n",
       "      <th>FechaAfiliacion</th>\n",
       "      <th>Area</th>\n",
       "      <th>CodigoDepartamentoAfiliacion</th>\n",
       "      <th>CodigoMunicipioAfiliacion</th>\n",
       "    </tr>\n",
       "  </thead>\n",
       "  <tbody>\n",
       "    <tr>\n",
       "      <th>41288</th>\n",
       "      <td>24</td>\n",
       "      <td>S</td>\n",
       "      <td>AC</td>\n",
       "      <td>ESS024</td>\n",
       "      <td>NO DEFINIDO</td>\n",
       "      <td>NORTE DE SANTANDER</td>\n",
       "      <td>CÚCUTA</td>\n",
       "      <td>2017-10-26</td>\n",
       "      <td>U</td>\n",
       "      <td>54</td>\n",
       "      <td>54001</td>\n",
       "    </tr>\n",
       "    <tr>\n",
       "      <th>41289</th>\n",
       "      <td>25</td>\n",
       "      <td>S</td>\n",
       "      <td>AC</td>\n",
       "      <td>ESS133</td>\n",
       "      <td>NO DEFINIDO</td>\n",
       "      <td>ARAUCA</td>\n",
       "      <td>ARAUQUITA</td>\n",
       "      <td>2018-07-17</td>\n",
       "      <td>U</td>\n",
       "      <td>81</td>\n",
       "      <td>81065</td>\n",
       "    </tr>\n",
       "    <tr>\n",
       "      <th>41290</th>\n",
       "      <td>29</td>\n",
       "      <td>S</td>\n",
       "      <td>AC</td>\n",
       "      <td>ESS062</td>\n",
       "      <td>NO DEFINIDO</td>\n",
       "      <td>CESAR</td>\n",
       "      <td>VALLEDUPAR</td>\n",
       "      <td>2005-12-29</td>\n",
       "      <td>U</td>\n",
       "      <td>20</td>\n",
       "      <td>20001</td>\n",
       "    </tr>\n",
       "    <tr>\n",
       "      <th>41291</th>\n",
       "      <td>55</td>\n",
       "      <td>S</td>\n",
       "      <td>AC</td>\n",
       "      <td>EPSS45</td>\n",
       "      <td>NO DEFINIDO</td>\n",
       "      <td>TOLIMA</td>\n",
       "      <td>IBAGUÉ</td>\n",
       "      <td>NaT</td>\n",
       "      <td>NaN</td>\n",
       "      <td>73</td>\n",
       "      <td>73001</td>\n",
       "    </tr>\n",
       "    <tr>\n",
       "      <th>41292</th>\n",
       "      <td>63</td>\n",
       "      <td>S</td>\n",
       "      <td>AC</td>\n",
       "      <td>EPS025</td>\n",
       "      <td>NO DEFINIDO</td>\n",
       "      <td>CASANARE</td>\n",
       "      <td>TRINIDAD</td>\n",
       "      <td>2016-01-01</td>\n",
       "      <td>R</td>\n",
       "      <td>85</td>\n",
       "      <td>85430</td>\n",
       "    </tr>\n",
       "  </tbody>\n",
       "</table>\n",
       "</div>"
      ],
      "text/plain": [
       "       PersonaID TipoRegimen EstadoAfiliacion Administradora TipoAfiliado  \\\n",
       "41288         24           S               AC         ESS024  NO DEFINIDO   \n",
       "41289         25           S               AC         ESS133  NO DEFINIDO   \n",
       "41290         29           S               AC         ESS062  NO DEFINIDO   \n",
       "41291         55           S               AC         EPSS45  NO DEFINIDO   \n",
       "41292         63           S               AC         EPS025  NO DEFINIDO   \n",
       "\n",
       "      DepartamentoAfiliacion MunicipioAfiliacion FechaAfiliacion Area  \\\n",
       "41288     NORTE DE SANTANDER              CÚCUTA      2017-10-26    U   \n",
       "41289                 ARAUCA           ARAUQUITA      2018-07-17    U   \n",
       "41290                  CESAR          VALLEDUPAR      2005-12-29    U   \n",
       "41291                 TOLIMA              IBAGUÉ             NaT  NaN   \n",
       "41292               CASANARE            TRINIDAD      2016-01-01    R   \n",
       "\n",
       "       CodigoDepartamentoAfiliacion  CodigoMunicipioAfiliacion  \n",
       "41288                            54                      54001  \n",
       "41289                            81                      81065  \n",
       "41290                            20                      20001  \n",
       "41291                            73                      73001  \n",
       "41292                            85                      85430  "
      ]
     },
     "execution_count": 82,
     "metadata": {},
     "output_type": "execute_result"
    }
   ],
   "source": [
    "ruaf.head()"
   ]
  },
  {
   "cell_type": "code",
   "execution_count": 83,
   "metadata": {},
   "outputs": [
    {
     "data": {
      "text/plain": [
       "113248255    1\n",
       "110549007    1\n",
       "127285267    1\n",
       "4218658      1\n",
       "111219540    1\n",
       "            ..\n",
       "88076931     1\n",
       "8379014      1\n",
       "109034122    1\n",
       "54506123     1\n",
       "16777216     1\n",
       "Name: PersonaID, Length: 7005393, dtype: int64"
      ]
     },
     "execution_count": 83,
     "metadata": {},
     "output_type": "execute_result"
    }
   ],
   "source": [
    "ruaf[ 'PersonaID' ].value_counts( dropna = False )"
   ]
  },
  {
   "cell_type": "code",
   "execution_count": 84,
   "metadata": {},
   "outputs": [
    {
     "data": {
      "text/plain": [
       "S    0.704930\n",
       "C    0.274615\n",
       "E    0.020456\n",
       "Name: TipoRegimen, dtype: float64"
      ]
     },
     "execution_count": 84,
     "metadata": {},
     "output_type": "execute_result"
    }
   ],
   "source": [
    "ruaf[ 'TipoRegimen' ].value_counts( dropna = False, normalize = True )"
   ]
  },
  {
   "cell_type": "code",
   "execution_count": 85,
   "metadata": {},
   "outputs": [
    {
     "data": {
      "text/plain": [
       "AC    0.945440\n",
       "RE    0.046896\n",
       "DE    0.003643\n",
       "SM    0.001872\n",
       "SU    0.001415\n",
       "PL    0.000718\n",
       "SD    0.000013\n",
       "RX    0.000002\n",
       "Name: EstadoAfiliacion, dtype: float64"
      ]
     },
     "execution_count": 85,
     "metadata": {},
     "output_type": "execute_result"
    }
   ],
   "source": [
    "ruaf[ 'EstadoAfiliacion' ].value_counts( dropna = False, normalize = True )"
   ]
  },
  {
   "cell_type": "code",
   "execution_count": 86,
   "metadata": {},
   "outputs": [
    {
     "data": {
      "text/plain": [
       "ESS062    7.704778e-02\n",
       "EPSS40    7.662896e-02\n",
       "ESS118    6.151204e-02\n",
       "ESS024    5.879799e-02\n",
       "EPS037    4.996351e-02\n",
       "              ...     \n",
       "CCF032    9.992302e-07\n",
       "EPSC20    8.564830e-07\n",
       "EPSIC2    2.854943e-07\n",
       "EPSS39    2.854943e-07\n",
       "EPSS46    2.854943e-07\n",
       "Name: Administradora, Length: 128, dtype: float64"
      ]
     },
     "execution_count": 86,
     "metadata": {},
     "output_type": "execute_result"
    }
   ],
   "source": [
    "ruaf[ 'Administradora' ].value_counts( dropna = False, normalize = True )"
   ]
  },
  {
   "cell_type": "code",
   "execution_count": 87,
   "metadata": {},
   "outputs": [
    {
     "data": {
      "text/plain": [
       "NO DEFINIDO            0.704930\n",
       "COTIZANTE PRINCIPAL    0.159181\n",
       "BENEFICIARIO           0.115062\n",
       "NaN                    0.020456\n",
       "ADICIONAL              0.000371\n",
       "Name: TipoAfiliado, dtype: float64"
      ]
     },
     "execution_count": 87,
     "metadata": {},
     "output_type": "execute_result"
    }
   ],
   "source": [
    "ruaf[ 'TipoAfiliado' ].value_counts( dropna = False, normalize = True )"
   ]
  },
  {
   "cell_type": "code",
   "execution_count": 88,
   "metadata": {},
   "outputs": [
    {
     "data": {
      "text/plain": [
       "count                 6317524\n",
       "unique                   8637\n",
       "top       2016-01-01 00:00:00\n",
       "freq                   399197\n",
       "first     1994-01-01 00:00:00\n",
       "last      2019-02-28 00:00:00\n",
       "Name: FechaAfiliacion, dtype: object"
      ]
     },
     "execution_count": 88,
     "metadata": {},
     "output_type": "execute_result"
    }
   ],
   "source": [
    "ruaf[ 'FechaAfiliacion' ].describe()"
   ]
  },
  {
   "cell_type": "code",
   "execution_count": 89,
   "metadata": {},
   "outputs": [
    {
     "data": {
      "text/plain": [
       "U      0.668521\n",
       "R      0.233288\n",
       "NaN    0.098191\n",
       "Name: Area, dtype: float64"
      ]
     },
     "execution_count": 89,
     "metadata": {},
     "output_type": "execute_result"
    }
   ],
   "source": [
    "ruaf[ 'Area' ].value_counts( dropna = False, normalize = True )"
   ]
  },
  {
   "cell_type": "code",
   "execution_count": 90,
   "metadata": {},
   "outputs": [
    {
     "data": {
      "text/plain": [
       "ANTIOQUIA                                                   0.194286\n",
       "VALLE DEL CAUCA                                             0.073031\n",
       "BOGOTÁ, D.C.                                                0.054848\n",
       "BOLÍVAR                                                     0.053758\n",
       "NARIÑO                                                      0.047152\n",
       "CESAR                                                       0.047105\n",
       "MAGDALENA                                                   0.044072\n",
       "CÓRDOBA                                                     0.041312\n",
       "CAUCA                                                       0.038281\n",
       "SUCRE                                                       0.036826\n",
       "NORTE DE SANTANDER                                          0.032206\n",
       "META                                                        0.031066\n",
       "SANTANDER                                                   0.030504\n",
       "HUILA                                                       0.026290\n",
       "TOLIMA                                                      0.025850\n",
       "ATLÁNTICO                                                   0.025804\n",
       "CHOCÓ                                                       0.025648\n",
       "CAQUETÁ                                                     0.023729\n",
       "NO DEFINIDO                                                 0.022030\n",
       "CUNDINAMARCA                                                0.021862\n",
       "PUTUMAYO                                                    0.018493\n",
       "LA GUAJIRA                                                  0.018399\n",
       "RISARALDA                                                   0.013872\n",
       "CALDAS                                                      0.013148\n",
       "ARAUCA                                                      0.011844\n",
       "CASANARE                                                    0.009370\n",
       "QUINDIO                                                     0.006615\n",
       "BOYACÁ                                                      0.005234\n",
       "GUAVIARE                                                    0.004185\n",
       "GUAINÍA                                                     0.001073\n",
       "VICHADA                                                     0.000884\n",
       "VAUPÉS                                                      0.000772\n",
       "AMAZONAS                                                    0.000366\n",
       "ARCHIPIÉLAGO DE SAN ANDRÉS, PROVIDENCIA Y SANTA CATALINA    0.000085\n",
       "Name: DepartamentoAfiliacion, dtype: float64"
      ]
     },
     "execution_count": 90,
     "metadata": {},
     "output_type": "execute_result"
    }
   ],
   "source": [
    "ruaf[ 'DepartamentoAfiliacion' ].value_counts( dropna = False, normalize = True )"
   ]
  },
  {
   "cell_type": "markdown",
   "metadata": {},
   "source": [
    "## Deaths"
   ]
  },
  {
   "cell_type": "code",
   "execution_count": 91,
   "metadata": {},
   "outputs": [],
   "source": [
    "deaths = pd.read_csv( './data/raw/ExtraccionRUV-DEFUNCIONES.txt', sep = '|' )"
   ]
  },
  {
   "cell_type": "code",
   "execution_count": 92,
   "metadata": {},
   "outputs": [
    {
     "data": {
      "text/plain": [
       "(146678, 4)"
      ]
     },
     "execution_count": 92,
     "metadata": {},
     "output_type": "execute_result"
    }
   ],
   "source": [
    "deaths.shape"
   ]
  },
  {
   "cell_type": "code",
   "execution_count": 93,
   "metadata": {},
   "outputs": [],
   "source": [
    "deaths.rename( columns = { 'probableManeraMuerte': 'ProbableManeraMuerte', 'Probable manera de muerte (violenta)': 'ProbableManeraMuerteViolenta' }, inplace = True )"
   ]
  },
  {
   "cell_type": "code",
   "execution_count": 94,
   "metadata": {},
   "outputs": [],
   "source": [
    "deaths[ 'FechaDefuncion' ] = pd.to_datetime( pd.to_datetime( deaths[ 'FechaDefuncion' ], format = '%Y/%m/%d' ).dt.date )"
   ]
  },
  {
   "cell_type": "code",
   "execution_count": 97,
   "metadata": {},
   "outputs": [],
   "source": [
    "deaths[ 'ProbableManeraMuerte' ] = deaths[ 'ProbableManeraMuerte' ].astype( 'category' )\n",
    "deaths[ 'ProbableManeraMuerteViolenta' ] = deaths[ 'ProbableManeraMuerteViolenta' ].astype( 'category' )"
   ]
  },
  {
   "cell_type": "code",
   "execution_count": 98,
   "metadata": {},
   "outputs": [
    {
     "data": {
      "text/plain": [
       "PersonaID                                int64\n",
       "FechaDefuncion                  datetime64[ns]\n",
       "ProbableManeraMuerte                  category\n",
       "ProbableManeraMuerteViolenta          category\n",
       "dtype: object"
      ]
     },
     "execution_count": 98,
     "metadata": {},
     "output_type": "execute_result"
    }
   ],
   "source": [
    "deaths.dtypes"
   ]
  },
  {
   "cell_type": "code",
   "execution_count": 99,
   "metadata": {},
   "outputs": [
    {
     "data": {
      "text/html": [
       "<div>\n",
       "<style scoped>\n",
       "    .dataframe tbody tr th:only-of-type {\n",
       "        vertical-align: middle;\n",
       "    }\n",
       "\n",
       "    .dataframe tbody tr th {\n",
       "        vertical-align: top;\n",
       "    }\n",
       "\n",
       "    .dataframe thead th {\n",
       "        text-align: right;\n",
       "    }\n",
       "</style>\n",
       "<table border=\"1\" class=\"dataframe\">\n",
       "  <thead>\n",
       "    <tr style=\"text-align: right;\">\n",
       "      <th></th>\n",
       "      <th>PersonaID</th>\n",
       "      <th>FechaDefuncion</th>\n",
       "      <th>ProbableManeraMuerte</th>\n",
       "      <th>ProbableManeraMuerteViolenta</th>\n",
       "    </tr>\n",
       "  </thead>\n",
       "  <tbody>\n",
       "    <tr>\n",
       "      <th>0</th>\n",
       "      <td>264</td>\n",
       "      <td>2018-05-02</td>\n",
       "      <td>1 - NATURAL</td>\n",
       "      <td>NO APLICA</td>\n",
       "    </tr>\n",
       "    <tr>\n",
       "      <th>1</th>\n",
       "      <td>464</td>\n",
       "      <td>2012-07-19</td>\n",
       "      <td>1 - NATURAL</td>\n",
       "      <td>NO APLICA</td>\n",
       "    </tr>\n",
       "    <tr>\n",
       "      <th>2</th>\n",
       "      <td>529</td>\n",
       "      <td>2014-08-15</td>\n",
       "      <td>2 - VIOLENTA</td>\n",
       "      <td>2 - HOMICIDIO</td>\n",
       "    </tr>\n",
       "    <tr>\n",
       "      <th>3</th>\n",
       "      <td>702</td>\n",
       "      <td>2018-08-03</td>\n",
       "      <td>1 - NATURAL</td>\n",
       "      <td>NO APLICA</td>\n",
       "    </tr>\n",
       "    <tr>\n",
       "      <th>4</th>\n",
       "      <td>805</td>\n",
       "      <td>2017-04-07</td>\n",
       "      <td>1 - NATURAL</td>\n",
       "      <td>NO APLICA</td>\n",
       "    </tr>\n",
       "  </tbody>\n",
       "</table>\n",
       "</div>"
      ],
      "text/plain": [
       "   PersonaID FechaDefuncion ProbableManeraMuerte ProbableManeraMuerteViolenta\n",
       "0        264     2018-05-02          1 - NATURAL                    NO APLICA\n",
       "1        464     2012-07-19          1 - NATURAL                    NO APLICA\n",
       "2        529     2014-08-15         2 - VIOLENTA                2 - HOMICIDIO\n",
       "3        702     2018-08-03          1 - NATURAL                    NO APLICA\n",
       "4        805     2017-04-07          1 - NATURAL                    NO APLICA"
      ]
     },
     "execution_count": 99,
     "metadata": {},
     "output_type": "execute_result"
    }
   ],
   "source": [
    "deaths.head()"
   ]
  },
  {
   "cell_type": "code",
   "execution_count": 100,
   "metadata": {},
   "outputs": [
    {
     "data": {
      "text/plain": [
       "count                  146678\n",
       "unique                   3403\n",
       "top       2017-04-01 00:00:00\n",
       "freq                      206\n",
       "first     2010-01-01 00:00:00\n",
       "last      2019-04-30 00:00:00\n",
       "Name: FechaDefuncion, dtype: object"
      ]
     },
     "execution_count": 100,
     "metadata": {},
     "output_type": "execute_result"
    }
   ],
   "source": [
    "deaths[ 'FechaDefuncion' ].describe()"
   ]
  },
  {
   "cell_type": "code",
   "execution_count": 101,
   "metadata": {},
   "outputs": [
    {
     "data": {
      "text/plain": [
       "1 - NATURAL       0.846385\n",
       "2 - VIOLENTA      0.145932\n",
       "3 - EN ESTUDIO    0.007683\n",
       "Name: ProbableManeraMuerte, dtype: float64"
      ]
     },
     "execution_count": 101,
     "metadata": {},
     "output_type": "execute_result"
    }
   ],
   "source": [
    "deaths[ 'ProbableManeraMuerte' ].value_counts( dropna = False, normalize = True )"
   ]
  },
  {
   "cell_type": "code",
   "execution_count": 102,
   "metadata": {},
   "outputs": [
    {
     "data": {
      "text/plain": [
       "NO APLICA                    0.854068\n",
       "2 - HOMICIDIO                0.086216\n",
       "3 - ACCIDENTE DE TRÁNSITO    0.028621\n",
       "4 - OTRO ACCIDENTE           0.017330\n",
       "1 - SUICIDIO                 0.009456\n",
       "5 - EN ESTUDIO               0.004302\n",
       "NO REPORTADO                 0.000007\n",
       "Name: ProbableManeraMuerteViolenta, dtype: float64"
      ]
     },
     "execution_count": 102,
     "metadata": {},
     "output_type": "execute_result"
    }
   ],
   "source": [
    "deaths[ 'ProbableManeraMuerteViolenta' ].value_counts( dropna = False, normalize = True )"
   ]
  },
  {
   "cell_type": "markdown",
   "metadata": {},
   "source": [
    "## Joining datasets"
   ]
  },
  {
   "cell_type": "code",
   "execution_count": 103,
   "metadata": {},
   "outputs": [],
   "source": [
    "df_merged = ruv.merge( disc, how = 'outer', on = 'PersonaID' )\\\n",
    "    .merge( ruaf, how = 'outer', on = 'PersonaID' )\\\n",
    "    .merge( deaths, how = 'outer', on = 'PersonaID' )"
   ]
  },
  {
   "cell_type": "code",
   "execution_count": 63,
   "metadata": {},
   "outputs": [],
   "source": [
    "del ruv\n",
    "del disc\n",
    "del ruaf\n",
    "del deaths"
   ]
  },
  {
   "cell_type": "code",
   "execution_count": 66,
   "metadata": {},
   "outputs": [
    {
     "data": {
      "text/plain": [
       "(7801638, 36)"
      ]
     },
     "execution_count": 66,
     "metadata": {},
     "output_type": "execute_result"
    }
   ],
   "source": [
    "df_merged.shape"
   ]
  },
  {
   "cell_type": "code",
   "execution_count": 104,
   "metadata": {},
   "outputs": [
    {
     "data": {
      "text/plain": [
       "PersonaID                                int64\n",
       "Sexo                                  category\n",
       "Etnia                                 category\n",
       "IndDiscapacidad                       category\n",
       "FechaNacimiento                 datetime64[ns]\n",
       "Hecho                                 category\n",
       "DepartamentoResidencia                category\n",
       "MunicipioResidencia                   category\n",
       "DepartamentoOcurrencia                category\n",
       "MunicipioOcurrencia                   category\n",
       "SujetoDesc                            category\n",
       "ZonaOcurrencia                        category\n",
       "CodigoDepartamentoResidencia             int64\n",
       "CodigoMunicipioResidencia                int64\n",
       "CodigoDepartamentoOcurrencia             int64\n",
       "CodigoMunicipioOcurrencia                int64\n",
       "FechaRegistro                   datetime64[ns]\n",
       "TipoAlteracion                        category\n",
       "OrigenDiscapacidad                    category\n",
       "DepartamentoRegistro                  category\n",
       "MunicipioRegistro                     category\n",
       "CodigoDepartamentoRegistro             float64\n",
       "CodigoMunicipioRegistro                float64\n",
       "TipoRegimen                           category\n",
       "EstadoAfiliacion                      category\n",
       "Administradora                        category\n",
       "TipoAfiliado                          category\n",
       "DepartamentoAfiliacion                category\n",
       "MunicipioAfiliacion                   category\n",
       "FechaAfiliacion                 datetime64[ns]\n",
       "Area                                  category\n",
       "CodigoDepartamentoAfiliacion           float64\n",
       "CodigoMunicipioAfiliacion              float64\n",
       "FechaDefuncion                  datetime64[ns]\n",
       "ProbableManeraMuerte                  category\n",
       "ProbableManeraMuerteViolenta          category\n",
       "dtype: object"
      ]
     },
     "execution_count": 104,
     "metadata": {},
     "output_type": "execute_result"
    }
   ],
   "source": [
    "df_merged.dtypes"
   ]
  },
  {
   "cell_type": "code",
   "execution_count": 74,
   "metadata": {},
   "outputs": [
    {
     "data": {
      "text/html": [
       "<div>\n",
       "<style scoped>\n",
       "    .dataframe tbody tr th:only-of-type {\n",
       "        vertical-align: middle;\n",
       "    }\n",
       "\n",
       "    .dataframe tbody tr th {\n",
       "        vertical-align: top;\n",
       "    }\n",
       "\n",
       "    .dataframe thead th {\n",
       "        text-align: right;\n",
       "    }\n",
       "</style>\n",
       "<table border=\"1\" class=\"dataframe\">\n",
       "  <thead>\n",
       "    <tr style=\"text-align: right;\">\n",
       "      <th></th>\n",
       "      <th>PersonaID</th>\n",
       "      <th>Sexo</th>\n",
       "      <th>Etnia</th>\n",
       "      <th>IndDiscapacidad</th>\n",
       "      <th>FechaNacimiento</th>\n",
       "      <th>Hecho</th>\n",
       "      <th>DepartamentoResidencia</th>\n",
       "      <th>MunicipioResidencia</th>\n",
       "      <th>DepartamentoOcurrencia</th>\n",
       "      <th>MunicipioOcurrencia</th>\n",
       "      <th>...</th>\n",
       "      <th>TipoAfiliado</th>\n",
       "      <th>DepartamentoAfiliacion</th>\n",
       "      <th>MunicipioAfiliacion</th>\n",
       "      <th>FechaAfiliacion</th>\n",
       "      <th>Area</th>\n",
       "      <th>CodigoDepartamentoAfiliacion</th>\n",
       "      <th>CodigoMunicipioAfiliacion</th>\n",
       "      <th>FechaDefuncion</th>\n",
       "      <th>ProbableManeraMuerte</th>\n",
       "      <th>ProbableManeraMuerteViolenta</th>\n",
       "    </tr>\n",
       "  </thead>\n",
       "  <tbody>\n",
       "    <tr>\n",
       "      <th>0</th>\n",
       "      <td>123094542</td>\n",
       "      <td>FEMENINO</td>\n",
       "      <td>NO REPORTADO</td>\n",
       "      <td>NO</td>\n",
       "      <td>1998-07-26</td>\n",
       "      <td>DESPLAZAMIENTO FORZADO</td>\n",
       "      <td>NO REPORTADO</td>\n",
       "      <td>No Reportado</td>\n",
       "      <td>Cauca</td>\n",
       "      <td>Guapi</td>\n",
       "      <td>...</td>\n",
       "      <td>COTIZANTE PRINCIPAL</td>\n",
       "      <td>VALLE DEL CAUCA</td>\n",
       "      <td>CALI</td>\n",
       "      <td>2018-08-19</td>\n",
       "      <td>R</td>\n",
       "      <td>76</td>\n",
       "      <td>76001</td>\n",
       "      <td>NaT</td>\n",
       "      <td>NaN</td>\n",
       "      <td>NaN</td>\n",
       "    </tr>\n",
       "    <tr>\n",
       "      <th>1</th>\n",
       "      <td>56101229</td>\n",
       "      <td>FEMENINO</td>\n",
       "      <td>NO REPORTADO</td>\n",
       "      <td>NO</td>\n",
       "      <td>1987-12-12</td>\n",
       "      <td>DESPLAZAMIENTO FORZADO</td>\n",
       "      <td>Meta</td>\n",
       "      <td>Vistahermosa</td>\n",
       "      <td>Meta</td>\n",
       "      <td>Vistahermosa</td>\n",
       "      <td>...</td>\n",
       "      <td>NO DEFINIDO</td>\n",
       "      <td>META</td>\n",
       "      <td>PUERTO GAITÁN</td>\n",
       "      <td>2016-08-22</td>\n",
       "      <td>U</td>\n",
       "      <td>50</td>\n",
       "      <td>50568</td>\n",
       "      <td>NaT</td>\n",
       "      <td>NaN</td>\n",
       "      <td>NaN</td>\n",
       "    </tr>\n",
       "    <tr>\n",
       "      <th>2</th>\n",
       "      <td>856198</td>\n",
       "      <td>FEMENINO</td>\n",
       "      <td>NO REPORTADO</td>\n",
       "      <td>SI</td>\n",
       "      <td>1962-12-19</td>\n",
       "      <td>HOMICIDIO</td>\n",
       "      <td>Antioquia</td>\n",
       "      <td>Medellín</td>\n",
       "      <td>Antioquia</td>\n",
       "      <td>Medellín</td>\n",
       "      <td>...</td>\n",
       "      <td>COTIZANTE PRINCIPAL</td>\n",
       "      <td>ANTIOQUIA</td>\n",
       "      <td>MEDELLÍN</td>\n",
       "      <td>2005-07-25</td>\n",
       "      <td>U</td>\n",
       "      <td>5</td>\n",
       "      <td>5001</td>\n",
       "      <td>NaT</td>\n",
       "      <td>NaN</td>\n",
       "      <td>NaN</td>\n",
       "    </tr>\n",
       "    <tr>\n",
       "      <th>3</th>\n",
       "      <td>39802643</td>\n",
       "      <td>FEMENINO</td>\n",
       "      <td>OTRAS ETNIAS</td>\n",
       "      <td>NO</td>\n",
       "      <td>1970-08-30</td>\n",
       "      <td>DESPLAZAMIENTO FORZADO</td>\n",
       "      <td>Atlántico</td>\n",
       "      <td>Soledad</td>\n",
       "      <td>Sucre</td>\n",
       "      <td>Chalán</td>\n",
       "      <td>...</td>\n",
       "      <td>NO DEFINIDO</td>\n",
       "      <td>SUCRE</td>\n",
       "      <td>SINCELEJO</td>\n",
       "      <td>2012-04-01</td>\n",
       "      <td>U</td>\n",
       "      <td>70</td>\n",
       "      <td>70001</td>\n",
       "      <td>NaT</td>\n",
       "      <td>NaN</td>\n",
       "      <td>NaN</td>\n",
       "    </tr>\n",
       "    <tr>\n",
       "      <th>4</th>\n",
       "      <td>31984449</td>\n",
       "      <td>FEMENINO</td>\n",
       "      <td>NO REPORTADO</td>\n",
       "      <td>NO</td>\n",
       "      <td>1968-03-23</td>\n",
       "      <td>DESPLAZAMIENTO FORZADO</td>\n",
       "      <td>La Guajira</td>\n",
       "      <td>Riohacha</td>\n",
       "      <td>La Guajira</td>\n",
       "      <td>Riohacha</td>\n",
       "      <td>...</td>\n",
       "      <td>COTIZANTE PRINCIPAL</td>\n",
       "      <td>LA GUAJIRA</td>\n",
       "      <td>RIOHACHA</td>\n",
       "      <td>2018-03-01</td>\n",
       "      <td>U</td>\n",
       "      <td>44</td>\n",
       "      <td>44001</td>\n",
       "      <td>NaT</td>\n",
       "      <td>NaN</td>\n",
       "      <td>NaN</td>\n",
       "    </tr>\n",
       "  </tbody>\n",
       "</table>\n",
       "<p>5 rows × 36 columns</p>\n",
       "</div>"
      ],
      "text/plain": [
       "   PersonaID      Sexo         Etnia IndDiscapacidad FechaNacimiento  \\\n",
       "0  123094542  FEMENINO  NO REPORTADO              NO      1998-07-26   \n",
       "1   56101229  FEMENINO  NO REPORTADO              NO      1987-12-12   \n",
       "2     856198  FEMENINO  NO REPORTADO              SI      1962-12-19   \n",
       "3   39802643  FEMENINO  OTRAS ETNIAS              NO      1970-08-30   \n",
       "4   31984449  FEMENINO  NO REPORTADO              NO      1968-03-23   \n",
       "\n",
       "                    Hecho DepartamentoResidencia MunicipioResidencia  \\\n",
       "0  DESPLAZAMIENTO FORZADO           NO REPORTADO        No Reportado   \n",
       "1  DESPLAZAMIENTO FORZADO                   Meta        Vistahermosa   \n",
       "2               HOMICIDIO              Antioquia            Medellín   \n",
       "3  DESPLAZAMIENTO FORZADO              Atlántico             Soledad   \n",
       "4  DESPLAZAMIENTO FORZADO             La Guajira            Riohacha   \n",
       "\n",
       "  DepartamentoOcurrencia MunicipioOcurrencia  ...         TipoAfiliado  \\\n",
       "0                  Cauca               Guapi  ...  COTIZANTE PRINCIPAL   \n",
       "1                   Meta        Vistahermosa  ...          NO DEFINIDO   \n",
       "2              Antioquia            Medellín  ...  COTIZANTE PRINCIPAL   \n",
       "3                  Sucre              Chalán  ...          NO DEFINIDO   \n",
       "4             La Guajira            Riohacha  ...  COTIZANTE PRINCIPAL   \n",
       "\n",
       "  DepartamentoAfiliacion  MunicipioAfiliacion  FechaAfiliacion  Area  \\\n",
       "0        VALLE DEL CAUCA                 CALI       2018-08-19     R   \n",
       "1                   META        PUERTO GAITÁN       2016-08-22     U   \n",
       "2              ANTIOQUIA             MEDELLÍN       2005-07-25     U   \n",
       "3                  SUCRE            SINCELEJO       2012-04-01     U   \n",
       "4             LA GUAJIRA             RIOHACHA       2018-03-01     U   \n",
       "\n",
       "   CodigoDepartamentoAfiliacion CodigoMunicipioAfiliacion FechaDefuncion  \\\n",
       "0                            76                     76001            NaT   \n",
       "1                            50                     50568            NaT   \n",
       "2                             5                      5001            NaT   \n",
       "3                            70                     70001            NaT   \n",
       "4                            44                     44001            NaT   \n",
       "\n",
       "  ProbableManeraMuerte ProbableManeraMuerteViolenta  \n",
       "0                  NaN                          NaN  \n",
       "1                  NaN                          NaN  \n",
       "2                  NaN                          NaN  \n",
       "3                  NaN                          NaN  \n",
       "4                  NaN                          NaN  \n",
       "\n",
       "[5 rows x 36 columns]"
      ]
     },
     "execution_count": 74,
     "metadata": {},
     "output_type": "execute_result"
    }
   ],
   "source": [
    "df_merged.head()"
   ]
  },
  {
   "cell_type": "code",
   "execution_count": 108,
   "metadata": {},
   "outputs": [],
   "source": [
    "df_merged.to_pickle( './data/clean/ruv_joined.pkl.gzip', compression = 'gzip' )"
   ]
  },
  {
   "cell_type": "code",
   "execution_count": null,
   "metadata": {},
   "outputs": [],
   "source": []
  }
 ],
 "metadata": {
  "kernelspec": {
   "display_name": "Python 3",
   "language": "python",
   "name": "python3"
  },
  "language_info": {
   "codemirror_mode": {
    "name": "ipython",
    "version": 3
   },
   "file_extension": ".py",
   "mimetype": "text/x-python",
   "name": "python",
   "nbconvert_exporter": "python",
   "pygments_lexer": "ipython3",
   "version": "3.7.6"
  }
 },
 "nbformat": 4,
 "nbformat_minor": 4
}
