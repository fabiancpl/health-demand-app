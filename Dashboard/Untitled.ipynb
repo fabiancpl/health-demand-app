{
 "cells": [
  {
   "cell_type": "code",
   "execution_count": 1,
   "metadata": {},
   "outputs": [],
   "source": [
    "# Basics Requirements\n",
    "import pathlib\n",
    "import dash\n",
    "from dash.dependencies import Input, Output, State, ClientsideFunction\n",
    "from dash.exceptions import PreventUpdate\n",
    "import dash_core_components as dcc\n",
    "import dash_html_components as html\n",
    "import plotly.graph_objects as go\n",
    "import plotly.express as px\n",
    "\n",
    "# Dash Bootstrap Components\n",
    "import dash_bootstrap_components as dbc \n",
    "\n",
    "# Data libraries\n",
    "import math\n",
    "import numpy as np\n",
    "import datetime as dt\n",
    "import pandas as pd\n",
    "import urllib.request, json \n"
   ]
  },
  {
   "cell_type": "code",
   "execution_count": 2,
   "metadata": {},
   "outputs": [],
   "source": [
    "# with urllib.request.urlopen('http://ec2-3-129-71-228.us-east-2.compute.amazonaws.com/api/priv/ruv') as url:\n",
    "#    data = json.loads(url.read().decode())\n",
    "\n",
    "with open('./data/ruv.json') as f:\n",
    "    data = json.load(f)\n",
    "\n",
    "df = pd.DataFrame.from_dict(data, orient='columns')"
   ]
  },
  {
   "cell_type": "code",
   "execution_count": 3,
   "metadata": {},
   "outputs": [
    {
     "data": {
      "text/plain": [
       "7801639"
      ]
     },
     "execution_count": 3,
     "metadata": {},
     "output_type": "execute_result"
    }
   ],
   "source": [
    "df.Total.astype(int).sum()"
   ]
  },
  {
   "cell_type": "code",
   "execution_count": 4,
   "metadata": {},
   "outputs": [],
   "source": [
    "df_tmp = df.Etnia.value_counts().to_frame().reset_index()"
   ]
  },
  {
   "cell_type": "code",
   "execution_count": 5,
   "metadata": {},
   "outputs": [
    {
     "data": {
      "text/plain": [
       "'Etnia'"
      ]
     },
     "execution_count": 5,
     "metadata": {},
     "output_type": "execute_result"
    }
   ],
   "source": [
    "df_tmp.columns[1]"
   ]
  },
  {
   "cell_type": "code",
   "execution_count": 6,
   "metadata": {},
   "outputs": [
    {
     "data": {
      "text/html": [
       "<div>\n",
       "<style scoped>\n",
       "    .dataframe tbody tr th:only-of-type {\n",
       "        vertical-align: middle;\n",
       "    }\n",
       "\n",
       "    .dataframe tbody tr th {\n",
       "        vertical-align: top;\n",
       "    }\n",
       "\n",
       "    .dataframe thead th {\n",
       "        text-align: right;\n",
       "    }\n",
       "</style>\n",
       "<table border=\"1\" class=\"dataframe\">\n",
       "  <thead>\n",
       "    <tr style=\"text-align: right;\">\n",
       "      <th></th>\n",
       "      <th>Departamento</th>\n",
       "      <th>Total</th>\n",
       "    </tr>\n",
       "  </thead>\n",
       "  <tbody>\n",
       "    <tr>\n",
       "      <th>0</th>\n",
       "      <td>Amazonas</td>\n",
       "      <td>2776</td>\n",
       "    </tr>\n",
       "    <tr>\n",
       "      <th>1</th>\n",
       "      <td>Antioquia</td>\n",
       "      <td>1540338</td>\n",
       "    </tr>\n",
       "    <tr>\n",
       "      <th>2</th>\n",
       "      <td>Arauca</td>\n",
       "      <td>129891</td>\n",
       "    </tr>\n",
       "    <tr>\n",
       "      <th>3</th>\n",
       "      <td>ArchipiÃ©lago de San AndrÃ©s, Providencia y S...</td>\n",
       "      <td>112</td>\n",
       "    </tr>\n",
       "    <tr>\n",
       "      <th>4</th>\n",
       "      <td>AtlÃ¡ntico</td>\n",
       "      <td>25216</td>\n",
       "    </tr>\n",
       "    <tr>\n",
       "      <th>5</th>\n",
       "      <td>BogotÃ¡, D.C.</td>\n",
       "      <td>21368</td>\n",
       "    </tr>\n",
       "    <tr>\n",
       "      <th>6</th>\n",
       "      <td>BolÃ­var</td>\n",
       "      <td>564768</td>\n",
       "    </tr>\n",
       "    <tr>\n",
       "      <th>7</th>\n",
       "      <td>BoyacÃ¡</td>\n",
       "      <td>39245</td>\n",
       "    </tr>\n",
       "    <tr>\n",
       "      <th>8</th>\n",
       "      <td>Caldas</td>\n",
       "      <td>127263</td>\n",
       "    </tr>\n",
       "    <tr>\n",
       "      <th>9</th>\n",
       "      <td>CaquetÃ¡</td>\n",
       "      <td>309143</td>\n",
       "    </tr>\n",
       "    <tr>\n",
       "      <th>10</th>\n",
       "      <td>Casanare</td>\n",
       "      <td>61395</td>\n",
       "    </tr>\n",
       "    <tr>\n",
       "      <th>11</th>\n",
       "      <td>Cauca</td>\n",
       "      <td>389897</td>\n",
       "    </tr>\n",
       "    <tr>\n",
       "      <th>12</th>\n",
       "      <td>Cesar</td>\n",
       "      <td>389755</td>\n",
       "    </tr>\n",
       "    <tr>\n",
       "      <th>13</th>\n",
       "      <td>ChocÃ³</td>\n",
       "      <td>356979</td>\n",
       "    </tr>\n",
       "    <tr>\n",
       "      <th>14</th>\n",
       "      <td>Cundinamarca</td>\n",
       "      <td>118564</td>\n",
       "    </tr>\n",
       "    <tr>\n",
       "      <th>15</th>\n",
       "      <td>CÃ³rdoba</td>\n",
       "      <td>343672</td>\n",
       "    </tr>\n",
       "    <tr>\n",
       "      <th>16</th>\n",
       "      <td>GuainÃ­a</td>\n",
       "      <td>8267</td>\n",
       "    </tr>\n",
       "    <tr>\n",
       "      <th>17</th>\n",
       "      <td>Guaviare</td>\n",
       "      <td>79220</td>\n",
       "    </tr>\n",
       "    <tr>\n",
       "      <th>18</th>\n",
       "      <td>Huila</td>\n",
       "      <td>151073</td>\n",
       "    </tr>\n",
       "    <tr>\n",
       "      <th>19</th>\n",
       "      <td>La Guajira</td>\n",
       "      <td>140451</td>\n",
       "    </tr>\n",
       "    <tr>\n",
       "      <th>20</th>\n",
       "      <td>Magdalena</td>\n",
       "      <td>428663</td>\n",
       "    </tr>\n",
       "    <tr>\n",
       "      <th>21</th>\n",
       "      <td>Meta</td>\n",
       "      <td>231435</td>\n",
       "    </tr>\n",
       "    <tr>\n",
       "      <th>22</th>\n",
       "      <td>NariÃ±o</td>\n",
       "      <td>433488</td>\n",
       "    </tr>\n",
       "    <tr>\n",
       "      <th>23</th>\n",
       "      <td>Norte de Santander</td>\n",
       "      <td>283450</td>\n",
       "    </tr>\n",
       "    <tr>\n",
       "      <th>24</th>\n",
       "      <td>Putumayo</td>\n",
       "      <td>234617</td>\n",
       "    </tr>\n",
       "    <tr>\n",
       "      <th>25</th>\n",
       "      <td>Quindio</td>\n",
       "      <td>18147</td>\n",
       "    </tr>\n",
       "    <tr>\n",
       "      <th>26</th>\n",
       "      <td>Risaralda</td>\n",
       "      <td>64968</td>\n",
       "    </tr>\n",
       "    <tr>\n",
       "      <th>27</th>\n",
       "      <td>Santander</td>\n",
       "      <td>179345</td>\n",
       "    </tr>\n",
       "    <tr>\n",
       "      <th>28</th>\n",
       "      <td>Sucre</td>\n",
       "      <td>260650</td>\n",
       "    </tr>\n",
       "    <tr>\n",
       "      <th>29</th>\n",
       "      <td>Tolima</td>\n",
       "      <td>302868</td>\n",
       "    </tr>\n",
       "    <tr>\n",
       "      <th>30</th>\n",
       "      <td>Valle del Cauca</td>\n",
       "      <td>414092</td>\n",
       "    </tr>\n",
       "    <tr>\n",
       "      <th>31</th>\n",
       "      <td>VaupÃ©s</td>\n",
       "      <td>10654</td>\n",
       "    </tr>\n",
       "    <tr>\n",
       "      <th>32</th>\n",
       "      <td>Vichada</td>\n",
       "      <td>22320</td>\n",
       "    </tr>\n",
       "    <tr>\n",
       "      <th>33</th>\n",
       "      <td>1</td>\n",
       "      <td>117549</td>\n",
       "    </tr>\n",
       "  </tbody>\n",
       "</table>\n",
       "</div>"
      ],
      "text/plain": [
       "                                         Departamento    Total\n",
       "0                                            Amazonas     2776\n",
       "1                                           Antioquia  1540338\n",
       "2                                              Arauca   129891\n",
       "3    ArchipiÃ©lago de San AndrÃ©s, Providencia y S...      112\n",
       "4                                          AtlÃ¡ntico    25216\n",
       "5                                       BogotÃ¡, D.C.    21368\n",
       "6                                            BolÃ­var   564768\n",
       "7                                             BoyacÃ¡    39245\n",
       "8                                              Caldas   127263\n",
       "9                                            CaquetÃ¡   309143\n",
       "10                                           Casanare    61395\n",
       "11                                              Cauca   389897\n",
       "12                                              Cesar   389755\n",
       "13                                             ChocÃ³   356979\n",
       "14                                       Cundinamarca   118564\n",
       "15                                           CÃ³rdoba   343672\n",
       "16                                           GuainÃ­a     8267\n",
       "17                                           Guaviare    79220\n",
       "18                                              Huila   151073\n",
       "19                                         La Guajira   140451\n",
       "20                                          Magdalena   428663\n",
       "21                                               Meta   231435\n",
       "22                                            NariÃ±o   433488\n",
       "23                                 Norte de Santander   283450\n",
       "24                                           Putumayo   234617\n",
       "25                                            Quindio    18147\n",
       "26                                          Risaralda    64968\n",
       "27                                          Santander   179345\n",
       "28                                              Sucre   260650\n",
       "29                                             Tolima   302868\n",
       "30                                    Valle del Cauca   414092\n",
       "31                                            VaupÃ©s    10654\n",
       "32                                            Vichada    22320\n",
       "33                                                 1    117549"
      ]
     },
     "execution_count": 6,
     "metadata": {},
     "output_type": "execute_result"
    }
   ],
   "source": [
    "df.Total = pd.to_numeric(df.Total)\n",
    "df.groupby('Departamento')[['Total']].sum().reset_index()"
   ]
  },
  {
   "cell_type": "code",
   "execution_count": 7,
   "metadata": {},
   "outputs": [
    {
     "data": {
      "text/html": [
       "<div>\n",
       "<style scoped>\n",
       "    .dataframe tbody tr th:only-of-type {\n",
       "        vertical-align: middle;\n",
       "    }\n",
       "\n",
       "    .dataframe tbody tr th {\n",
       "        vertical-align: top;\n",
       "    }\n",
       "\n",
       "    .dataframe thead th {\n",
       "        text-align: right;\n",
       "    }\n",
       "</style>\n",
       "<table border=\"1\" class=\"dataframe\">\n",
       "  <thead>\n",
       "    <tr style=\"text-align: right;\">\n",
       "      <th></th>\n",
       "      <th>Departamento</th>\n",
       "      <th>EsAdultoMayor</th>\n",
       "      <th>PerteneceEtnia</th>\n",
       "      <th>Etnia</th>\n",
       "      <th>TieneDiscapacidad</th>\n",
       "      <th>Discapacidad</th>\n",
       "      <th>Total</th>\n",
       "    </tr>\n",
       "  </thead>\n",
       "  <tbody>\n",
       "    <tr>\n",
       "      <th>0</th>\n",
       "      <td>1</td>\n",
       "      <td>NA</td>\n",
       "      <td>No</td>\n",
       "      <td>NA</td>\n",
       "      <td>No</td>\n",
       "      <td>NA</td>\n",
       "      <td>1090</td>\n",
       "    </tr>\n",
       "    <tr>\n",
       "      <th>1</th>\n",
       "      <td>1</td>\n",
       "      <td>NA</td>\n",
       "      <td>No</td>\n",
       "      <td>NA</td>\n",
       "      <td>Si</td>\n",
       "      <td>El Movimiento Del Cuerpo, Manos, Brazos, Piernas</td>\n",
       "      <td>9</td>\n",
       "    </tr>\n",
       "    <tr>\n",
       "      <th>2</th>\n",
       "      <td>1</td>\n",
       "      <td>NA</td>\n",
       "      <td>No</td>\n",
       "      <td>NA</td>\n",
       "      <td>Si</td>\n",
       "      <td>El Sistema Cardiorespiratorio Y Las Defensas</td>\n",
       "      <td>3</td>\n",
       "    </tr>\n",
       "    <tr>\n",
       "      <th>3</th>\n",
       "      <td>1</td>\n",
       "      <td>NA</td>\n",
       "      <td>No</td>\n",
       "      <td>NA</td>\n",
       "      <td>Si</td>\n",
       "      <td>El Sistema Nervioso</td>\n",
       "      <td>1</td>\n",
       "    </tr>\n",
       "    <tr>\n",
       "      <th>4</th>\n",
       "      <td>1</td>\n",
       "      <td>NA</td>\n",
       "      <td>No</td>\n",
       "      <td>NA</td>\n",
       "      <td>Si</td>\n",
       "      <td>La Voz Y El Habla</td>\n",
       "      <td>2</td>\n",
       "    </tr>\n",
       "    <tr>\n",
       "      <th>...</th>\n",
       "      <td>...</td>\n",
       "      <td>...</td>\n",
       "      <td>...</td>\n",
       "      <td>...</td>\n",
       "      <td>...</td>\n",
       "      <td>...</td>\n",
       "      <td>...</td>\n",
       "    </tr>\n",
       "    <tr>\n",
       "      <th>2430</th>\n",
       "      <td>Vichada</td>\n",
       "      <td>Si</td>\n",
       "      <td>Si</td>\n",
       "      <td>IndÃ­gena</td>\n",
       "      <td>No</td>\n",
       "      <td>NA</td>\n",
       "      <td>171</td>\n",
       "    </tr>\n",
       "    <tr>\n",
       "      <th>2431</th>\n",
       "      <td>Vichada</td>\n",
       "      <td>Si</td>\n",
       "      <td>Si</td>\n",
       "      <td>IndÃ­gena</td>\n",
       "      <td>Si</td>\n",
       "      <td>El Movimiento Del Cuerpo, Manos, Brazos, Piernas</td>\n",
       "      <td>6</td>\n",
       "    </tr>\n",
       "    <tr>\n",
       "      <th>2432</th>\n",
       "      <td>Vichada</td>\n",
       "      <td>Si</td>\n",
       "      <td>Si</td>\n",
       "      <td>IndÃ­gena</td>\n",
       "      <td>Si</td>\n",
       "      <td>Los Ojos</td>\n",
       "      <td>7</td>\n",
       "    </tr>\n",
       "    <tr>\n",
       "      <th>2433</th>\n",
       "      <td>Vichada</td>\n",
       "      <td>Si</td>\n",
       "      <td>Si</td>\n",
       "      <td>NARP</td>\n",
       "      <td>No</td>\n",
       "      <td>NA</td>\n",
       "      <td>1</td>\n",
       "    </tr>\n",
       "    <tr>\n",
       "      <th>2434</th>\n",
       "      <td>Vichada</td>\n",
       "      <td>Si</td>\n",
       "      <td>Si</td>\n",
       "      <td>NARP</td>\n",
       "      <td>Si</td>\n",
       "      <td>El Movimiento Del Cuerpo, Manos, Brazos, Piernas</td>\n",
       "      <td>1</td>\n",
       "    </tr>\n",
       "  </tbody>\n",
       "</table>\n",
       "<p>2435 rows × 7 columns</p>\n",
       "</div>"
      ],
      "text/plain": [
       "     Departamento EsAdultoMayor PerteneceEtnia      Etnia TieneDiscapacidad  \\\n",
       "0              1             NA             No         NA                No   \n",
       "1              1             NA             No         NA                Si   \n",
       "2              1             NA             No         NA                Si   \n",
       "3              1             NA             No         NA                Si   \n",
       "4              1             NA             No         NA                Si   \n",
       "...           ...           ...            ...        ...               ...   \n",
       "2430      Vichada            Si             Si  IndÃ­gena                No   \n",
       "2431      Vichada            Si             Si  IndÃ­gena                Si   \n",
       "2432      Vichada            Si             Si  IndÃ­gena                Si   \n",
       "2433      Vichada            Si             Si       NARP                No   \n",
       "2434      Vichada            Si             Si       NARP                Si   \n",
       "\n",
       "                                          Discapacidad  Total  \n",
       "0                                                   NA   1090  \n",
       "1     El Movimiento Del Cuerpo, Manos, Brazos, Piernas      9  \n",
       "2         El Sistema Cardiorespiratorio Y Las Defensas      3  \n",
       "3                                  El Sistema Nervioso      1  \n",
       "4                                    La Voz Y El Habla      2  \n",
       "...                                                ...    ...  \n",
       "2430                                                NA    171  \n",
       "2431  El Movimiento Del Cuerpo, Manos, Brazos, Piernas      6  \n",
       "2432                                          Los Ojos      7  \n",
       "2433                                                NA      1  \n",
       "2434  El Movimiento Del Cuerpo, Manos, Brazos, Piernas      1  \n",
       "\n",
       "[2435 rows x 7 columns]"
      ]
     },
     "execution_count": 7,
     "metadata": {},
     "output_type": "execute_result"
    }
   ],
   "source": [
    "layout = go.Layout( title = 'Victim people per age and sex',\n",
    "                   yaxis = go.layout.YAxis( title = 'Age group' ),\n",
    "                   xaxis = go.layout.XAxis(\n",
    "                       range = [ -40000, 60000 ],\n",
    "                       title = 'Number of victim people'\n",
    "                   ),\n",
    "                   barmode = 'overlay',\n",
    "                   bargap = 0.1\n",
    "                  )\n",
    "\n",
    "data = [ go.Bar( y = rips_by_age_sex[ 'RangoEdadAtencion' ].astype( str ),\n",
    "                x = rips_by_age_sex[ 'MASCULINO' ] * -1,\n",
    "                orientation = 'h',\n",
    "                name = 'Men',\n",
    "                text = rips_by_age_sex[ 'MASCULINO' ],\n",
    "                hoverinfo = 'text',\n",
    "                marker = dict( color = '#beaed4' )\n",
    "               ),\n",
    "        go.Bar( y = rips_by_age_sex[ 'RangoEdadAtencion' ].astype( str ),\n",
    "               x = rips_by_age_sex[ 'FEMENINO' ],\n",
    "               orientation = 'h',\n",
    "               name ='Women',\n",
    "               text = rips_by_age_sex[ 'FEMENINO' ],\n",
    "               hoverinfo = 'text',\n",
    "               marker = dict( color = '#fdc086' )\n",
    "              ) \n",
    "       ]\n",
    "\n",
    "fig = go.Figure( dict( data = data, layout = layout ) )\n",
    "fig.show()"
   ]
  },
  {
   "cell_type": "code",
   "execution_count": 20,
   "metadata": {},
   "outputs": [],
   "source": [
    "with open('./data/rips1.json') as f1:\n",
    "    data1 = json.load(f1)\n",
    "\n",
    "df1 = pd.DataFrame.from_dict(data1, orient='columns')"
   ]
  },
  {
   "cell_type": "code",
   "execution_count": 21,
   "metadata": {},
   "outputs": [
    {
     "data": {
      "text/html": [
       "<div>\n",
       "<style scoped>\n",
       "    .dataframe tbody tr th:only-of-type {\n",
       "        vertical-align: middle;\n",
       "    }\n",
       "\n",
       "    .dataframe tbody tr th {\n",
       "        vertical-align: top;\n",
       "    }\n",
       "\n",
       "    .dataframe thead th {\n",
       "        text-align: right;\n",
       "    }\n",
       "</style>\n",
       "<table border=\"1\" class=\"dataframe\">\n",
       "  <thead>\n",
       "    <tr style=\"text-align: right;\">\n",
       "      <th></th>\n",
       "      <th>Anno</th>\n",
       "      <th>Mes</th>\n",
       "      <th>CodigoDepartamento</th>\n",
       "      <th>Departamento</th>\n",
       "      <th>TipoAtencion</th>\n",
       "      <th>Total</th>\n",
       "    </tr>\n",
       "  </thead>\n",
       "  <tbody>\n",
       "    <tr>\n",
       "      <th>0</th>\n",
       "      <td>2013</td>\n",
       "      <td>01</td>\n",
       "      <td>05</td>\n",
       "      <td>Antioquia</td>\n",
       "      <td>CONSULTAS</td>\n",
       "      <td>6209</td>\n",
       "    </tr>\n",
       "    <tr>\n",
       "      <th>1</th>\n",
       "      <td>2013</td>\n",
       "      <td>01</td>\n",
       "      <td>05</td>\n",
       "      <td>Antioquia</td>\n",
       "      <td>HOSPITALIZACIONES</td>\n",
       "      <td>133</td>\n",
       "    </tr>\n",
       "    <tr>\n",
       "      <th>2</th>\n",
       "      <td>2013</td>\n",
       "      <td>01</td>\n",
       "      <td>05</td>\n",
       "      <td>Antioquia</td>\n",
       "      <td>PROCEDIMIENTOS DE SALUD</td>\n",
       "      <td>7971</td>\n",
       "    </tr>\n",
       "    <tr>\n",
       "      <th>3</th>\n",
       "      <td>2013</td>\n",
       "      <td>01</td>\n",
       "      <td>05</td>\n",
       "      <td>Antioquia</td>\n",
       "      <td>URGENCIAS</td>\n",
       "      <td>383</td>\n",
       "    </tr>\n",
       "    <tr>\n",
       "      <th>4</th>\n",
       "      <td>2013</td>\n",
       "      <td>01</td>\n",
       "      <td>08</td>\n",
       "      <td>AtlÃ¡ntico</td>\n",
       "      <td>CONSULTAS</td>\n",
       "      <td>1514</td>\n",
       "    </tr>\n",
       "    <tr>\n",
       "      <th>...</th>\n",
       "      <td>...</td>\n",
       "      <td>...</td>\n",
       "      <td>...</td>\n",
       "      <td>...</td>\n",
       "      <td>...</td>\n",
       "      <td>...</td>\n",
       "    </tr>\n",
       "    <tr>\n",
       "      <th>8994</th>\n",
       "      <td>2018</td>\n",
       "      <td>12</td>\n",
       "      <td>97</td>\n",
       "      <td>VaupÃ©s</td>\n",
       "      <td>PROCEDIMIENTOS DE SALUD</td>\n",
       "      <td>364</td>\n",
       "    </tr>\n",
       "    <tr>\n",
       "      <th>8995</th>\n",
       "      <td>2018</td>\n",
       "      <td>12</td>\n",
       "      <td>97</td>\n",
       "      <td>VaupÃ©s</td>\n",
       "      <td>URGENCIAS</td>\n",
       "      <td>1</td>\n",
       "    </tr>\n",
       "    <tr>\n",
       "      <th>8996</th>\n",
       "      <td>2018</td>\n",
       "      <td>12</td>\n",
       "      <td>99</td>\n",
       "      <td>Vichada</td>\n",
       "      <td>CONSULTAS</td>\n",
       "      <td>50</td>\n",
       "    </tr>\n",
       "    <tr>\n",
       "      <th>8997</th>\n",
       "      <td>2018</td>\n",
       "      <td>12</td>\n",
       "      <td>99</td>\n",
       "      <td>Vichada</td>\n",
       "      <td>PROCEDIMIENTOS DE SALUD</td>\n",
       "      <td>105</td>\n",
       "    </tr>\n",
       "    <tr>\n",
       "      <th>8998</th>\n",
       "      <td>2018</td>\n",
       "      <td>12</td>\n",
       "      <td>99</td>\n",
       "      <td>Vichada</td>\n",
       "      <td>URGENCIAS</td>\n",
       "      <td>1</td>\n",
       "    </tr>\n",
       "  </tbody>\n",
       "</table>\n",
       "<p>8999 rows × 6 columns</p>\n",
       "</div>"
      ],
      "text/plain": [
       "      Anno Mes CodigoDepartamento Departamento             TipoAtencion Total\n",
       "0     2013  01                05     Antioquia                CONSULTAS  6209\n",
       "1     2013  01                05     Antioquia        HOSPITALIZACIONES   133\n",
       "2     2013  01                05     Antioquia  PROCEDIMIENTOS DE SALUD  7971\n",
       "3     2013  01                05     Antioquia                URGENCIAS   383\n",
       "4     2013  01                08    AtlÃ¡ntico                CONSULTAS  1514\n",
       "...    ...  ..                ...          ...                      ...   ...\n",
       "8994  2018  12                97       VaupÃ©s  PROCEDIMIENTOS DE SALUD   364\n",
       "8995  2018  12                97       VaupÃ©s                URGENCIAS     1\n",
       "8996  2018  12                99       Vichada                CONSULTAS    50\n",
       "8997  2018  12                99       Vichada  PROCEDIMIENTOS DE SALUD   105\n",
       "8998  2018  12                99       Vichada                URGENCIAS     1\n",
       "\n",
       "[8999 rows x 6 columns]"
      ]
     },
     "execution_count": 21,
     "metadata": {},
     "output_type": "execute_result"
    }
   ],
   "source": [
    "df1"
   ]
  },
  {
   "cell_type": "code",
   "execution_count": 23,
   "metadata": {},
   "outputs": [
    {
     "data": {
      "application/vnd.plotly.v1+json": {
       "config": {
        "plotlyServerURL": "https://plot.ly"
       },
       "data": [
        {
         "hovertemplate": "country=Australia<br>year=%{x}<br>lifeExp=%{y}<extra></extra>",
         "legendgroup": "Australia",
         "line": {
          "color": "#636efa",
          "dash": "solid"
         },
         "mode": "lines",
         "name": "Australia",
         "orientation": "v",
         "showlegend": true,
         "type": "scatter",
         "x": [
          1952,
          1957,
          1962,
          1967,
          1972,
          1977,
          1982,
          1987,
          1992,
          1997,
          2002,
          2007
         ],
         "xaxis": "x",
         "y": [
          69.12,
          70.33,
          70.93,
          71.1,
          71.93,
          73.49,
          74.74,
          76.32,
          77.56,
          78.83,
          80.37,
          81.235
         ],
         "yaxis": "y"
        },
        {
         "hovertemplate": "country=New Zealand<br>year=%{x}<br>lifeExp=%{y}<extra></extra>",
         "legendgroup": "New Zealand",
         "line": {
          "color": "#EF553B",
          "dash": "solid"
         },
         "mode": "lines",
         "name": "New Zealand",
         "orientation": "v",
         "showlegend": true,
         "type": "scatter",
         "x": [
          1952,
          1957,
          1962,
          1967,
          1972,
          1977,
          1982,
          1987,
          1992,
          1997,
          2002,
          2007
         ],
         "xaxis": "x",
         "y": [
          69.39,
          70.26,
          71.24,
          71.52,
          71.89,
          72.22,
          73.84,
          74.32,
          76.33,
          77.55,
          79.11,
          80.204
         ],
         "yaxis": "y"
        }
       ],
       "layout": {
        "autosize": true,
        "legend": {
         "title": {
          "text": "country"
         },
         "tracegroupgap": 0
        },
        "margin": {
         "b": 0,
         "l": 0,
         "r": 0,
         "t": 0
        },
        "paper_bgcolor": "#F8F9F9",
        "showlegend": false,
        "template": {
         "data": {
          "bar": [
           {
            "error_x": {
             "color": "#2a3f5f"
            },
            "error_y": {
             "color": "#2a3f5f"
            },
            "marker": {
             "line": {
              "color": "#E5ECF6",
              "width": 0.5
             }
            },
            "type": "bar"
           }
          ],
          "barpolar": [
           {
            "marker": {
             "line": {
              "color": "#E5ECF6",
              "width": 0.5
             }
            },
            "type": "barpolar"
           }
          ],
          "carpet": [
           {
            "aaxis": {
             "endlinecolor": "#2a3f5f",
             "gridcolor": "white",
             "linecolor": "white",
             "minorgridcolor": "white",
             "startlinecolor": "#2a3f5f"
            },
            "baxis": {
             "endlinecolor": "#2a3f5f",
             "gridcolor": "white",
             "linecolor": "white",
             "minorgridcolor": "white",
             "startlinecolor": "#2a3f5f"
            },
            "type": "carpet"
           }
          ],
          "choropleth": [
           {
            "colorbar": {
             "outlinewidth": 0,
             "ticks": ""
            },
            "type": "choropleth"
           }
          ],
          "contour": [
           {
            "colorbar": {
             "outlinewidth": 0,
             "ticks": ""
            },
            "colorscale": [
             [
              0,
              "#0d0887"
             ],
             [
              0.1111111111111111,
              "#46039f"
             ],
             [
              0.2222222222222222,
              "#7201a8"
             ],
             [
              0.3333333333333333,
              "#9c179e"
             ],
             [
              0.4444444444444444,
              "#bd3786"
             ],
             [
              0.5555555555555556,
              "#d8576b"
             ],
             [
              0.6666666666666666,
              "#ed7953"
             ],
             [
              0.7777777777777778,
              "#fb9f3a"
             ],
             [
              0.8888888888888888,
              "#fdca26"
             ],
             [
              1,
              "#f0f921"
             ]
            ],
            "type": "contour"
           }
          ],
          "contourcarpet": [
           {
            "colorbar": {
             "outlinewidth": 0,
             "ticks": ""
            },
            "type": "contourcarpet"
           }
          ],
          "heatmap": [
           {
            "colorbar": {
             "outlinewidth": 0,
             "ticks": ""
            },
            "colorscale": [
             [
              0,
              "#0d0887"
             ],
             [
              0.1111111111111111,
              "#46039f"
             ],
             [
              0.2222222222222222,
              "#7201a8"
             ],
             [
              0.3333333333333333,
              "#9c179e"
             ],
             [
              0.4444444444444444,
              "#bd3786"
             ],
             [
              0.5555555555555556,
              "#d8576b"
             ],
             [
              0.6666666666666666,
              "#ed7953"
             ],
             [
              0.7777777777777778,
              "#fb9f3a"
             ],
             [
              0.8888888888888888,
              "#fdca26"
             ],
             [
              1,
              "#f0f921"
             ]
            ],
            "type": "heatmap"
           }
          ],
          "heatmapgl": [
           {
            "colorbar": {
             "outlinewidth": 0,
             "ticks": ""
            },
            "colorscale": [
             [
              0,
              "#0d0887"
             ],
             [
              0.1111111111111111,
              "#46039f"
             ],
             [
              0.2222222222222222,
              "#7201a8"
             ],
             [
              0.3333333333333333,
              "#9c179e"
             ],
             [
              0.4444444444444444,
              "#bd3786"
             ],
             [
              0.5555555555555556,
              "#d8576b"
             ],
             [
              0.6666666666666666,
              "#ed7953"
             ],
             [
              0.7777777777777778,
              "#fb9f3a"
             ],
             [
              0.8888888888888888,
              "#fdca26"
             ],
             [
              1,
              "#f0f921"
             ]
            ],
            "type": "heatmapgl"
           }
          ],
          "histogram": [
           {
            "marker": {
             "colorbar": {
              "outlinewidth": 0,
              "ticks": ""
             }
            },
            "type": "histogram"
           }
          ],
          "histogram2d": [
           {
            "colorbar": {
             "outlinewidth": 0,
             "ticks": ""
            },
            "colorscale": [
             [
              0,
              "#0d0887"
             ],
             [
              0.1111111111111111,
              "#46039f"
             ],
             [
              0.2222222222222222,
              "#7201a8"
             ],
             [
              0.3333333333333333,
              "#9c179e"
             ],
             [
              0.4444444444444444,
              "#bd3786"
             ],
             [
              0.5555555555555556,
              "#d8576b"
             ],
             [
              0.6666666666666666,
              "#ed7953"
             ],
             [
              0.7777777777777778,
              "#fb9f3a"
             ],
             [
              0.8888888888888888,
              "#fdca26"
             ],
             [
              1,
              "#f0f921"
             ]
            ],
            "type": "histogram2d"
           }
          ],
          "histogram2dcontour": [
           {
            "colorbar": {
             "outlinewidth": 0,
             "ticks": ""
            },
            "colorscale": [
             [
              0,
              "#0d0887"
             ],
             [
              0.1111111111111111,
              "#46039f"
             ],
             [
              0.2222222222222222,
              "#7201a8"
             ],
             [
              0.3333333333333333,
              "#9c179e"
             ],
             [
              0.4444444444444444,
              "#bd3786"
             ],
             [
              0.5555555555555556,
              "#d8576b"
             ],
             [
              0.6666666666666666,
              "#ed7953"
             ],
             [
              0.7777777777777778,
              "#fb9f3a"
             ],
             [
              0.8888888888888888,
              "#fdca26"
             ],
             [
              1,
              "#f0f921"
             ]
            ],
            "type": "histogram2dcontour"
           }
          ],
          "mesh3d": [
           {
            "colorbar": {
             "outlinewidth": 0,
             "ticks": ""
            },
            "type": "mesh3d"
           }
          ],
          "parcoords": [
           {
            "line": {
             "colorbar": {
              "outlinewidth": 0,
              "ticks": ""
             }
            },
            "type": "parcoords"
           }
          ],
          "pie": [
           {
            "automargin": true,
            "type": "pie"
           }
          ],
          "scatter": [
           {
            "marker": {
             "colorbar": {
              "outlinewidth": 0,
              "ticks": ""
             }
            },
            "type": "scatter"
           }
          ],
          "scatter3d": [
           {
            "line": {
             "colorbar": {
              "outlinewidth": 0,
              "ticks": ""
             }
            },
            "marker": {
             "colorbar": {
              "outlinewidth": 0,
              "ticks": ""
             }
            },
            "type": "scatter3d"
           }
          ],
          "scattercarpet": [
           {
            "marker": {
             "colorbar": {
              "outlinewidth": 0,
              "ticks": ""
             }
            },
            "type": "scattercarpet"
           }
          ],
          "scattergeo": [
           {
            "marker": {
             "colorbar": {
              "outlinewidth": 0,
              "ticks": ""
             }
            },
            "type": "scattergeo"
           }
          ],
          "scattergl": [
           {
            "marker": {
             "colorbar": {
              "outlinewidth": 0,
              "ticks": ""
             }
            },
            "type": "scattergl"
           }
          ],
          "scattermapbox": [
           {
            "marker": {
             "colorbar": {
              "outlinewidth": 0,
              "ticks": ""
             }
            },
            "type": "scattermapbox"
           }
          ],
          "scatterpolar": [
           {
            "marker": {
             "colorbar": {
              "outlinewidth": 0,
              "ticks": ""
             }
            },
            "type": "scatterpolar"
           }
          ],
          "scatterpolargl": [
           {
            "marker": {
             "colorbar": {
              "outlinewidth": 0,
              "ticks": ""
             }
            },
            "type": "scatterpolargl"
           }
          ],
          "scatterternary": [
           {
            "marker": {
             "colorbar": {
              "outlinewidth": 0,
              "ticks": ""
             }
            },
            "type": "scatterternary"
           }
          ],
          "surface": [
           {
            "colorbar": {
             "outlinewidth": 0,
             "ticks": ""
            },
            "colorscale": [
             [
              0,
              "#0d0887"
             ],
             [
              0.1111111111111111,
              "#46039f"
             ],
             [
              0.2222222222222222,
              "#7201a8"
             ],
             [
              0.3333333333333333,
              "#9c179e"
             ],
             [
              0.4444444444444444,
              "#bd3786"
             ],
             [
              0.5555555555555556,
              "#d8576b"
             ],
             [
              0.6666666666666666,
              "#ed7953"
             ],
             [
              0.7777777777777778,
              "#fb9f3a"
             ],
             [
              0.8888888888888888,
              "#fdca26"
             ],
             [
              1,
              "#f0f921"
             ]
            ],
            "type": "surface"
           }
          ],
          "table": [
           {
            "cells": {
             "fill": {
              "color": "#EBF0F8"
             },
             "line": {
              "color": "white"
             }
            },
            "header": {
             "fill": {
              "color": "#C8D4E3"
             },
             "line": {
              "color": "white"
             }
            },
            "type": "table"
           }
          ]
         },
         "layout": {
          "annotationdefaults": {
           "arrowcolor": "#2a3f5f",
           "arrowhead": 0,
           "arrowwidth": 1
          },
          "coloraxis": {
           "colorbar": {
            "outlinewidth": 0,
            "ticks": ""
           }
          },
          "colorscale": {
           "diverging": [
            [
             0,
             "#8e0152"
            ],
            [
             0.1,
             "#c51b7d"
            ],
            [
             0.2,
             "#de77ae"
            ],
            [
             0.3,
             "#f1b6da"
            ],
            [
             0.4,
             "#fde0ef"
            ],
            [
             0.5,
             "#f7f7f7"
            ],
            [
             0.6,
             "#e6f5d0"
            ],
            [
             0.7,
             "#b8e186"
            ],
            [
             0.8,
             "#7fbc41"
            ],
            [
             0.9,
             "#4d9221"
            ],
            [
             1,
             "#276419"
            ]
           ],
           "sequential": [
            [
             0,
             "#0d0887"
            ],
            [
             0.1111111111111111,
             "#46039f"
            ],
            [
             0.2222222222222222,
             "#7201a8"
            ],
            [
             0.3333333333333333,
             "#9c179e"
            ],
            [
             0.4444444444444444,
             "#bd3786"
            ],
            [
             0.5555555555555556,
             "#d8576b"
            ],
            [
             0.6666666666666666,
             "#ed7953"
            ],
            [
             0.7777777777777778,
             "#fb9f3a"
            ],
            [
             0.8888888888888888,
             "#fdca26"
            ],
            [
             1,
             "#f0f921"
            ]
           ],
           "sequentialminus": [
            [
             0,
             "#0d0887"
            ],
            [
             0.1111111111111111,
             "#46039f"
            ],
            [
             0.2222222222222222,
             "#7201a8"
            ],
            [
             0.3333333333333333,
             "#9c179e"
            ],
            [
             0.4444444444444444,
             "#bd3786"
            ],
            [
             0.5555555555555556,
             "#d8576b"
            ],
            [
             0.6666666666666666,
             "#ed7953"
            ],
            [
             0.7777777777777778,
             "#fb9f3a"
            ],
            [
             0.8888888888888888,
             "#fdca26"
            ],
            [
             1,
             "#f0f921"
            ]
           ]
          },
          "colorway": [
           "#636efa",
           "#EF553B",
           "#00cc96",
           "#ab63fa",
           "#FFA15A",
           "#19d3f3",
           "#FF6692",
           "#B6E880",
           "#FF97FF",
           "#FECB52"
          ],
          "font": {
           "color": "#2a3f5f"
          },
          "geo": {
           "bgcolor": "white",
           "lakecolor": "white",
           "landcolor": "#E5ECF6",
           "showlakes": true,
           "showland": true,
           "subunitcolor": "white"
          },
          "hoverlabel": {
           "align": "left"
          },
          "hovermode": "closest",
          "mapbox": {
           "style": "light"
          },
          "paper_bgcolor": "white",
          "plot_bgcolor": "#E5ECF6",
          "polar": {
           "angularaxis": {
            "gridcolor": "white",
            "linecolor": "white",
            "ticks": ""
           },
           "bgcolor": "#E5ECF6",
           "radialaxis": {
            "gridcolor": "white",
            "linecolor": "white",
            "ticks": ""
           }
          },
          "scene": {
           "xaxis": {
            "backgroundcolor": "#E5ECF6",
            "gridcolor": "white",
            "gridwidth": 2,
            "linecolor": "white",
            "showbackground": true,
            "ticks": "",
            "zerolinecolor": "white"
           },
           "yaxis": {
            "backgroundcolor": "#E5ECF6",
            "gridcolor": "white",
            "gridwidth": 2,
            "linecolor": "white",
            "showbackground": true,
            "ticks": "",
            "zerolinecolor": "white"
           },
           "zaxis": {
            "backgroundcolor": "#E5ECF6",
            "gridcolor": "white",
            "gridwidth": 2,
            "linecolor": "white",
            "showbackground": true,
            "ticks": "",
            "zerolinecolor": "white"
           }
          },
          "shapedefaults": {
           "line": {
            "color": "#2a3f5f"
           }
          },
          "ternary": {
           "aaxis": {
            "gridcolor": "white",
            "linecolor": "white",
            "ticks": ""
           },
           "baxis": {
            "gridcolor": "white",
            "linecolor": "white",
            "ticks": ""
           },
           "bgcolor": "#E5ECF6",
           "caxis": {
            "gridcolor": "white",
            "linecolor": "white",
            "ticks": ""
           }
          },
          "title": {
           "x": 0.05
          },
          "xaxis": {
           "automargin": true,
           "gridcolor": "white",
           "linecolor": "white",
           "ticks": "",
           "title": {
            "standoff": 15
           },
           "zerolinecolor": "white",
           "zerolinewidth": 2
          },
          "yaxis": {
           "automargin": true,
           "gridcolor": "white",
           "linecolor": "white",
           "ticks": "",
           "title": {
            "standoff": 15
           },
           "zerolinecolor": "white",
           "zerolinewidth": 2
          }
         }
        },
        "title": {
         "text": "Health Demand"
        },
        "xaxis": {
         "anchor": "y",
         "domain": [
          0,
          1
         ],
         "title": {
          "text": "year"
         }
        },
        "yaxis": {
         "anchor": "x",
         "domain": [
          0,
          1
         ],
         "title": {
          "text": "lifeExp"
         }
        }
       }
      }
     },
     "metadata": {},
     "output_type": "display_data"
    }
   ],
   "source": [
    "px.line(px.data.gapminder().query(\"continent=='Oceania'\")\n",
    "                        , x=\"year\", y=\"lifeExp\", color='country').update_layout(\n",
    "                            paper_bgcolor=\"#F8F9F9\",\n",
    "                            title=\"Health Demand\",\n",
    "                            autosize=True,           \n",
    "                            margin={\"r\":0,\"t\":0,\"l\":0,\"b\":0},\n",
    "                            showlegend=False,\n",
    "                            )"
   ]
  },
  {
   "cell_type": "code",
   "execution_count": 27,
   "metadata": {},
   "outputs": [
    {
     "data": {
      "text/html": [
       "<div>\n",
       "<style scoped>\n",
       "    .dataframe tbody tr th:only-of-type {\n",
       "        vertical-align: middle;\n",
       "    }\n",
       "\n",
       "    .dataframe tbody tr th {\n",
       "        vertical-align: top;\n",
       "    }\n",
       "\n",
       "    .dataframe thead th {\n",
       "        text-align: right;\n",
       "    }\n",
       "</style>\n",
       "<table border=\"1\" class=\"dataframe\">\n",
       "  <thead>\n",
       "    <tr style=\"text-align: right;\">\n",
       "      <th></th>\n",
       "      <th>AnnoMes</th>\n",
       "      <th>TipoAtencion</th>\n",
       "      <th>Total</th>\n",
       "    </tr>\n",
       "  </thead>\n",
       "  <tbody>\n",
       "    <tr>\n",
       "      <th>0</th>\n",
       "      <td>201301</td>\n",
       "      <td>CONSULTAS</td>\n",
       "      <td>6209151426365417351573196038762250200381634213...</td>\n",
       "    </tr>\n",
       "    <tr>\n",
       "      <th>1</th>\n",
       "      <td>201301</td>\n",
       "      <td>HOSPITALIZACIONES</td>\n",
       "      <td>1331660676163692543814123259251115314141147421...</td>\n",
       "    </tr>\n",
       "    <tr>\n",
       "      <th>2</th>\n",
       "      <td>201301</td>\n",
       "      <td>PROCEDIMIENTOS DE SALUD</td>\n",
       "      <td>7971189327697458282740256460112643176957618395...</td>\n",
       "    </tr>\n",
       "    <tr>\n",
       "      <th>3</th>\n",
       "      <td>201301</td>\n",
       "      <td>URGENCIAS</td>\n",
       "      <td>3831772132353045939517912330168277184159585705...</td>\n",
       "    </tr>\n",
       "    <tr>\n",
       "      <th>4</th>\n",
       "      <td>201302</td>\n",
       "      <td>CONSULTAS</td>\n",
       "      <td>6315156125525495431616188041392125219110932531...</td>\n",
       "    </tr>\n",
       "    <tr>\n",
       "      <th>...</th>\n",
       "      <td>...</td>\n",
       "      <td>...</td>\n",
       "      <td>...</td>\n",
       "    </tr>\n",
       "    <tr>\n",
       "      <th>283</th>\n",
       "      <td>201811</td>\n",
       "      <td>URGENCIAS</td>\n",
       "      <td>7033591663962531145165385635199123159333417257...</td>\n",
       "    </tr>\n",
       "    <tr>\n",
       "      <th>284</th>\n",
       "      <td>201812</td>\n",
       "      <td>CONSULTAS</td>\n",
       "      <td>1678443055502952956593125035463442770942562111...</td>\n",
       "    </tr>\n",
       "    <tr>\n",
       "      <th>285</th>\n",
       "      <td>201812</td>\n",
       "      <td>HOSPITALIZACIONES</td>\n",
       "      <td>2816612718718241239713216965681391069748213571...</td>\n",
       "    </tr>\n",
       "    <tr>\n",
       "      <th>286</th>\n",
       "      <td>201812</td>\n",
       "      <td>PROCEDIMIENTOS DE SALUD</td>\n",
       "      <td>2402089749798167061116159646261080811318143972...</td>\n",
       "    </tr>\n",
       "    <tr>\n",
       "      <th>287</th>\n",
       "      <td>201812</td>\n",
       "      <td>URGENCIAS</td>\n",
       "      <td>6672641353132344119159334487199149123273293187...</td>\n",
       "    </tr>\n",
       "  </tbody>\n",
       "</table>\n",
       "<p>288 rows × 3 columns</p>\n",
       "</div>"
      ],
      "text/plain": [
       "    AnnoMes             TipoAtencion  \\\n",
       "0    201301                CONSULTAS   \n",
       "1    201301        HOSPITALIZACIONES   \n",
       "2    201301  PROCEDIMIENTOS DE SALUD   \n",
       "3    201301                URGENCIAS   \n",
       "4    201302                CONSULTAS   \n",
       "..      ...                      ...   \n",
       "283  201811                URGENCIAS   \n",
       "284  201812                CONSULTAS   \n",
       "285  201812        HOSPITALIZACIONES   \n",
       "286  201812  PROCEDIMIENTOS DE SALUD   \n",
       "287  201812                URGENCIAS   \n",
       "\n",
       "                                                 Total  \n",
       "0    6209151426365417351573196038762250200381634213...  \n",
       "1    1331660676163692543814123259251115314141147421...  \n",
       "2    7971189327697458282740256460112643176957618395...  \n",
       "3    3831772132353045939517912330168277184159585705...  \n",
       "4    6315156125525495431616188041392125219110932531...  \n",
       "..                                                 ...  \n",
       "283  7033591663962531145165385635199123159333417257...  \n",
       "284  1678443055502952956593125035463442770942562111...  \n",
       "285  2816612718718241239713216965681391069748213571...  \n",
       "286  2402089749798167061116159646261080811318143972...  \n",
       "287  6672641353132344119159334487199149123273293187...  \n",
       "\n",
       "[288 rows x 3 columns]"
      ]
     },
     "execution_count": 27,
     "metadata": {},
     "output_type": "execute_result"
    }
   ],
   "source": [
    "df1['AnnoMes']= df1.Anno + df1.Mes\n",
    "df1.groupby(['AnnoMes','TipoAtencion'])[['Total']].sum().reset_index()"
   ]
  }
 ],
 "metadata": {
  "kernelspec": {
   "display_name": "Python 3.8.3 64-bit ('test1': conda)",
   "language": "python",
   "name": "python38364bittest1conda57fa78dd50df4e89914d06c7e4dd03c1"
  },
  "language_info": {
   "codemirror_mode": {
    "name": "ipython",
    "version": 3
   },
   "file_extension": ".py",
   "mimetype": "text/x-python",
   "name": "python",
   "nbconvert_exporter": "python",
   "pygments_lexer": "ipython3",
   "version": "3.8.3"
  }
 },
 "nbformat": 4,
 "nbformat_minor": 4
}
